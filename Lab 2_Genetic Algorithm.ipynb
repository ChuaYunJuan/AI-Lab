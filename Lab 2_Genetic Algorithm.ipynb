{
 "cells": [
  {
   "cell_type": "markdown",
   "id": "19195cbc",
   "metadata": {},
   "source": [
    "# Artificial Intelligence\n",
    "## UEMH3073 / UECS2053 / UECS2153\n",
    "\n",
    "# Lab 2: Genetic Algorithm"
   ]
  },
  {
   "cell_type": "markdown",
   "id": "357d953f",
   "metadata": {},
   "source": [
    "This notebook is an assignment requiring you to investigate the Travelling Salesman Problem. Guidance is provided so you can understand what needs to be done for this assignment as you follow through this lab. Convenience classes and functions/ methods are provided.\n",
    "\n",
    "You will encounter #TODO in the code cells explaining tasks you need to complete. In other words, you will need to write codes and accomplish the #TODO tasks so that the genetic algorithm functions well and runs correctly. Look for \"Replacement starts here\" and \"Replacement ends here\" to know the parts of the codes requiring your inputs.\n",
    "    \n",
    "\n",
    "The #TODO tasks and their marks distribution are as follows:\n",
    " \n",
    "a. #TODO1 (10 marks) in the Population Initialization function. You will read a set of cities from the filename when creating an initial population. \n",
    "\n",
    "b. #TODO2 (10 marks) in the Parent Selection function. You will replace a dummy parent selection function with Tournament Selection. \n",
    "\n",
    "c. #TODO3 (10 marks) in the Parent Selection function. You will replace a dummy parent selection function with Proportional Selection.\n",
    "\n",
    "d. #TODO4 (10 marks) in the Survival Selection function. You will replace the dummy survival selection function with Merge, Sort & Truncate. \n",
    "    \n",
    "e. #TODO5 (10 marks) in the Crossover function. You will replace the dummy crossover function the Partially Mapped Crossover approach.\n",
    "\n",
    "f. #TODO6 (10 marks) in the Mutation function. You will replace the dummy mutation function with Insertion Mutation approach. \n",
    "\n",
    "g. #TODO7 (10 marks) in Performance Evaluation. You will present performance evaluation for the different Parent Selection functions. \n",
    "\n",
    "Marks are also given for: Report Presentation and Formatting (15%) and Code Quality and Comments (15%). More details about this notebook and assignemnt are provided in your lab sheet."
   ]
  },
  {
   "cell_type": "markdown",
   "id": "3a397f6c",
   "metadata": {},
   "source": [
    "## An Overview of the Travelling Salesman Problem"
   ]
  },
  {
   "cell_type": "markdown",
   "id": "770d5880",
   "metadata": {},
   "source": [
    "In the travelling salesman problem, a salesperson wish to find the shortest path that passes through all cities s/he wishes to visit given the coordinates of a set of cities. The salesperson should visit each of the cities once only, and so:\n",
    "\n",
    "a. Each path consists all cities in the set.\n",
    "\n",
    "b. Each path visits each of the cities once only. So, none of the cities are visited more than once. "
   ]
  },
  {
   "cell_type": "markdown",
   "id": "0d5d37c8",
   "metadata": {},
   "source": [
    "## Imports"
   ]
  },
  {
   "cell_type": "code",
   "execution_count": 127,
   "id": "2a831940",
   "metadata": {},
   "outputs": [
    {
     "name": "stdout",
     "output_type": "stream",
     "text": [
      "'Hello. This is a test program.'\n"
     ]
    }
   ],
   "source": [
    "print (\"Hello. This is a test program.\")"
   ]
  },
  {
   "cell_type": "code",
   "execution_count": 128,
   "id": "86227049",
   "metadata": {},
   "outputs": [],
   "source": [
    "%matplotlib inline \n",
    "# This line is used to display the plots in the notebook itself. \n",
    "# This means that the plots/graphs will be displayed directly in the output cell of the code cell and not in a separate window.\n",
    "\n",
    "# Please add more imports if you need them \n",
    "import random\n",
    "import time\n",
    "import csv\n",
    "\n",
    "import numpy as np\n",
    "import pandas as pd\n",
    "import matplotlib.pyplot as plt\n",
    "\n",
    "from pprint import pprint as print "
   ]
  },
  {
   "cell_type": "markdown",
   "id": "420ef0f6",
   "metadata": {},
   "source": [
    "## Convenience Classes"
   ]
  },
  {
   "cell_type": "markdown",
   "id": "c8335dc9",
   "metadata": {},
   "source": [
    "### City"
   ]
  },
  {
   "cell_type": "markdown",
   "id": "793d7c06",
   "metadata": {},
   "source": [
    "The City class, which represents a city, possesses the properties of the city and has functions/ methods used for calculating the distance between the city and another city. Each path, represented by a chromosome, is formed by a set of cities.   "
   ]
  },
  {
   "cell_type": "code",
   "execution_count": 129,
   "id": "6a3d4ad0",
   "metadata": {},
   "outputs": [],
   "source": [
    "class City:\n",
    "    def __init__(self, x, y):   # Constructor to initialize the city with its x and y coordinates\n",
    "        self.x = x              # self = position of current city\n",
    "        self.y = y              \n",
    "        \n",
    "    def distance(self, city):   # city = position of the next city \n",
    "        xDis = abs(self.x - city.x) \n",
    "        yDis = abs(self.y - city.y)\n",
    "        distance = np.sqrt((xDis ** 2) + (yDis ** 2))   # Euclidean distance\n",
    "        return distance\n",
    "    \n",
    "    def __repr__(self):        # __repr__ = String representation of the city object\n",
    "        return \"(\" + str(self.x) + \",\" + str(self.y) + \")\""
   ]
  },
  {
   "cell_type": "markdown",
   "id": "d1337f65",
   "metadata": {},
   "source": [
    "The Fitness class, which represents the fitness function, possesses the properties of a path and has functions/methods used for calculating the fitness value of the path, which is based on the distance of the path. "
   ]
  },
  {
   "cell_type": "code",
   "execution_count": 130,
   "id": "b9eca58a",
   "metadata": {},
   "outputs": [],
   "source": [
    "class Fitness:\n",
    "    def __init__(self, route): # Constructor to initialize the route with the cities\n",
    "        self.route = route\n",
    "        self.distance = None # To store the distance of the route\n",
    "        self.fitness = None  # To store the fitness score of the route\n",
    "    \n",
    "    def routeDistance(self):\n",
    "        if self.distance == None:\n",
    "            pathDistance = 0.0\n",
    "            for i in range(0, len(self.route)):\n",
    "                fromCity = self.route[i]  # Current city\n",
    "                toCity = None\n",
    "\n",
    "                # Determine next city in the route\n",
    "                if i+1 < len(self.route):   # if the current city is not the last city in the route\n",
    "                    toCity = self.route[i+1]\n",
    "                else:\n",
    "                    toCity = self.route[0]  # if the current city is the last city in the route, then the next city is the first city in the route (complete the loop)\n",
    "                pathDistance += fromCity.distance(toCity)\n",
    "            self.distance = pathDistance\n",
    "        return self.distance\n",
    "    \n",
    "    def routeFitness(self):\n",
    "        if self.fitness == None:\n",
    "        # Fitness function (Simple division) that uses a simple \n",
    "        # division that divides one by the distance of the path\n",
    "            self.fitness = 1 / float(self.routeDistance()) \n",
    "            # Note: You must ensure a division by zero does not occur \n",
    "        return self.fitness\n"
   ]
  },
  {
   "cell_type": "markdown",
   "id": "e9ecd81d",
   "metadata": {},
   "source": [
    "## Population Initialization  "
   ]
  },
  {
   "cell_type": "markdown",
   "id": "02544afb",
   "metadata": {},
   "source": [
    "The population initialization function (or method) performs random initialization. This creates an initial population with completely random chromosomes (or solutions). There are three functions related to population initialization. \n",
    "\n",
    "The first function is genCityList() which generates a set of cities from a file.  "
   ]
  },
  {
   "cell_type": "code",
   "execution_count": 241,
   "id": "9d39ed7e",
   "metadata": {},
   "outputs": [],
   "source": [
    "def genCityList(filename):\n",
    "    fileCityList = []\n",
    "    cityList = []\n",
    "\n",
    "    # TODO 1 (10 marks) - Replace the following codes that generate 10 random cities.\n",
    "    # Your new implementation must read a set of cities from the filename to be used for creating \n",
    "    # an initial population.  \n",
    "    \n",
    "    # Marking scheme: \n",
    "    # 7 to 10 marks:  Correct implementation. \n",
    "    # 5 to <7 marks:  Minor errors with slight effects on the fitness value.\n",
    "    # >0 to <5 marks: Major errors with significant effects on the fitness value. \n",
    "    # 0 marks:        No answer is given. \n",
    "    \n",
    "    # -----------------------------Replacement starts here--------------------------------\n",
    "    with open(filename, 'r') as file:\n",
    "        next(file)  # Skip the first line\n",
    "\n",
    "        for line in file:\n",
    "            row = line.strip().split(',')  # Split X and Y coordinates\n",
    "            fileCityList.append(City(x=int(row[1]),y=int(row[2]))) \n",
    "\n",
    "    # Randomly select 10 cities from the list\n",
    "    cityList = random.sample(fileCityList, 10)\n",
    "    \n",
    "    return cityList\n",
    "   # -----------------------------Replacement ends here--------------------------------"
   ]
  },
  {
   "cell_type": "code",
   "execution_count": 132,
   "id": "9a1165a2",
   "metadata": {},
   "outputs": [
    {
     "name": "stdout",
     "output_type": "stream",
     "text": [
      "[(34,83),\n",
      " (61,21),\n",
      " (77,16),\n",
      " (9,23),\n",
      " (56,77),\n",
      " (89,52),\n",
      " (29,58),\n",
      " (26,39),\n",
      " (75,44),\n",
      " (92,75),\n",
      " (36,1),\n",
      " (79,36),\n",
      " (1,77),\n",
      " (45,86),\n",
      " (57,30),\n",
      " (6,11),\n",
      " (97,66),\n",
      " (44,66),\n",
      " (48,32),\n",
      " (28,98),\n",
      " (76,88),\n",
      " (84,43),\n",
      " (70,32),\n",
      " (7,26),\n",
      " (95,51),\n",
      " (10,34),\n",
      " (78,28),\n",
      " (40,64),\n",
      " (39,40),\n",
      " (10,31),\n",
      " (59,3),\n",
      " (57,57),\n",
      " (100,64),\n",
      " (76,63),\n",
      " (52,35),\n",
      " (80,68),\n",
      " (98,61),\n",
      " (95,97),\n",
      " (33,60),\n",
      " (44,29),\n",
      " (15,46),\n",
      " (94,70),\n",
      " (69,80),\n",
      " (35,46),\n",
      " (14,74),\n",
      " (78,60),\n",
      " (92,57),\n",
      " (20,91),\n",
      " (15,34),\n",
      " (12,18)]\n"
     ]
    }
   ],
   "source": [
    "def readCityFile(filename):\n",
    "    fileCityList = []\n",
    "    \n",
    "    with open(filename, 'r') as file:\n",
    "        next(file)  # Skip the first line\n",
    "\n",
    "\n",
    "        for line in file:\n",
    "            row = line.strip().split(',')  # Split X and Y coordinates\n",
    "            city = City(x=int(row[1]), y=int(row[2]))\n",
    "            fileCityList.append(city)\n",
    "    return fileCityList \n",
    "\n",
    "cities_from_file = readCityFile(\"C:\\\\Users\\\\User\\\\Desktop\\\\Jupyter NoteBook\\\\AI_Week 7_Practical\\\\Lab_2_Genetic_Algorithm\\\\cities50.txt\")\n",
    "\n",
    "print(cities_from_file)"
   ]
  },
  {
   "cell_type": "code",
   "execution_count": 133,
   "id": "a5ee0c09",
   "metadata": {},
   "outputs": [
    {
     "name": "stdout",
     "output_type": "stream",
     "text": [
      "[(78,60),\n",
      " (10,34),\n",
      " (92,75),\n",
      " (34,83),\n",
      " (95,97),\n",
      " (59,3),\n",
      " (28,98),\n",
      " (76,63),\n",
      " (15,46),\n",
      " (98,61)]\n"
     ]
    }
   ],
   "source": [
    "# To create a list of cities from the city coordinates randomly \n",
    "random_cities = genCityList(\"C:\\\\Users\\\\User\\\\Desktop\\\\Jupyter NoteBook\\\\AI_Week 7_Practical\\\\Lab_2_Genetic_Algorithm\\\\cities50.txt\")\n",
    "\n",
    "print(random_cities)"
   ]
  },
  {
   "cell_type": "markdown",
   "id": "e4888778",
   "metadata": {},
   "source": [
    "The second function is createRoute() which generates a random route (chromosome) from a set of City instances."
   ]
  },
  {
   "cell_type": "code",
   "execution_count": 134,
   "id": "1f9ac614",
   "metadata": {},
   "outputs": [],
   "source": [
    "def createRoute(cityList):\n",
    "    route = random.sample(cityList, len(cityList))\n",
    "    return route"
   ]
  },
  {
   "cell_type": "markdown",
   "id": "f0c11bbb",
   "metadata": {},
   "source": [
    "The third function is initialPopulation() which calls the second function repeatedly to create an initial population (a list of routes)."
   ]
  },
  {
   "cell_type": "code",
   "execution_count": 135,
   "id": "4ae07df2",
   "metadata": {},
   "outputs": [],
   "source": [
    "def initialPopulation(popSize, cityList):\n",
    "    population = []\n",
    "    for i in range(0, popSize):\n",
    "        population.append(createRoute(cityList)) \n",
    "    return population"
   ]
  },
  {
   "cell_type": "markdown",
   "id": "ed5c9a1d",
   "metadata": {},
   "source": [
    "You can run the above functions using the sample runs below. To do so, simply change the cell type from Markdown to Code.\n",
    "\n",
    "Sample run 1 initializes 10 cities in cityList as follows:"
   ]
  },
  {
   "cell_type": "code",
   "execution_count": 136,
   "id": "dbce56f2",
   "metadata": {},
   "outputs": [
    {
     "name": "stdout",
     "output_type": "stream",
     "text": [
      "[(92,57),\n",
      " (15,34),\n",
      " (75,44),\n",
      " (57,57),\n",
      " (77,16),\n",
      " (97,66),\n",
      " (34,83),\n",
      " (7,26),\n",
      " (78,28),\n",
      " (80,68)]\n"
     ]
    }
   ],
   "source": [
    "cityList = genCityList(\"C:\\\\Users\\\\User\\\\Desktop\\\\Jupyter NoteBook\\\\AI_Week 7_Practical\\\\Lab_2_Genetic_Algorithm\\\\cities50.txt\") \n",
    "print(cityList)"
   ]
  },
  {
   "cell_type": "markdown",
   "id": "00b4e341",
   "metadata": {},
   "source": [
    "Sample run 2 initializes 10 cities in cityList and creates a population with three routes as follows:"
   ]
  },
  {
   "cell_type": "code",
   "execution_count": 137,
   "id": "e7f8538a",
   "metadata": {},
   "outputs": [
    {
     "name": "stdout",
     "output_type": "stream",
     "text": [
      "[[(48,32),\n",
      "  (79,36),\n",
      "  (57,30),\n",
      "  (40,64),\n",
      "  (70,32),\n",
      "  (92,57),\n",
      "  (44,29),\n",
      "  (95,97),\n",
      "  (76,88),\n",
      "  (1,77)],\n",
      " [(1,77),\n",
      "  (48,32),\n",
      "  (95,97),\n",
      "  (57,30),\n",
      "  (79,36),\n",
      "  (70,32),\n",
      "  (92,57),\n",
      "  (40,64),\n",
      "  (76,88),\n",
      "  (44,29)],\n",
      " [(48,32),\n",
      "  (76,88),\n",
      "  (40,64),\n",
      "  (79,36),\n",
      "  (1,77),\n",
      "  (70,32),\n",
      "  (95,97),\n",
      "  (44,29),\n",
      "  (57,30),\n",
      "  (92,57)]]\n"
     ]
    }
   ],
   "source": [
    "cityList = genCityList(\"C:\\\\Users\\\\User\\\\Desktop\\\\Jupyter NoteBook\\\\AI_Week 7_Practical\\\\Lab_2_Genetic_Algorithm\\\\cities50.txt\") \n",
    "population = initialPopulation(3, cityList) \n",
    "print(population)"
   ]
  },
  {
   "cell_type": "markdown",
   "id": "f8aac59f",
   "metadata": {},
   "source": [
    "## Selection"
   ]
  },
  {
   "cell_type": "markdown",
   "id": "cb5cfd2d",
   "metadata": {},
   "source": [
    "Parents selection selects chromosomes with high fitness values from a population. Survivor selection selects chromosomes with higher fitness values to form the population of the next generation. The population size is len(population), so we have len(population) in this population. "
   ]
  },
  {
   "cell_type": "markdown",
   "id": "91040238",
   "metadata": {},
   "source": [
    "### Parent Selection\n",
    "\n",
    "There are three implementations for parent selection. The first parentSelection() performs random selection."
   ]
  },
  {
   "cell_type": "code",
   "execution_count": 138,
   "id": "3add27f7",
   "metadata": {},
   "outputs": [],
   "source": [
    "def parentSelection(population, poolSize=None):\n",
    "    if poolSize == None:\n",
    "        poolSize = len(population)\n",
    "        \n",
    "    matingPool = []\n",
    "    \n",
    "    for i in range(0, poolSize):\n",
    "        fitness = Fitness(population[i]).routeFitness()\n",
    "        matingPool.append(random.choice(population))\n",
    "      \n",
    "    return matingPool"
   ]
  },
  {
   "cell_type": "markdown",
   "id": "7d7aedb6",
   "metadata": {},
   "source": [
    "The second parentSelection() performs Tournament Selection."
   ]
  },
  {
   "cell_type": "code",
   "execution_count": 139,
   "id": "53e6ed39",
   "metadata": {},
   "outputs": [],
   "source": [
    "def parentSelection(population, poolSize=None):\n",
    "    \n",
    "    # TODO 2 (10 marks) - Replace the dummy parent selection function below with  \n",
    "    # Tournament Selection.\n",
    "      \n",
    "    # Marking scheme: \n",
    "    # 7 to 10 marks:  Correct implementation. \n",
    "    # 5 to <7 marks:  Minor errors.\n",
    "    # >0 to <5 marks: Major errors. \n",
    "    # 0 marks:        No answer is given. \n",
    "    \n",
    "    # You will need to compare the performance achieved by Random Selection, \n",
    "    # Tournament Selection, and Proportional Selection during performance evaluation \n",
    "    # later. So, you will run either Random Selection, Tournament Selection, or \n",
    "    # Proportional Selection in a simulation run.\n",
    "    \n",
    "    if poolSize == None:\n",
    "        poolSize = len(population)\n",
    "        \n",
    "    matingPool = []\n",
    "    \n",
    "    # Replacement starts here\n",
    "    matingPool = population[0:poolSize]\n",
    "    # Replacement ends here\n",
    "    \n",
    "    return matingPool"
   ]
  },
  {
   "cell_type": "markdown",
   "id": "4bb238e2",
   "metadata": {},
   "source": [
    "The third parentSelection() performs Proportional Selection."
   ]
  },
  {
   "cell_type": "code",
   "execution_count": 140,
   "id": "2ccaef4a",
   "metadata": {},
   "outputs": [],
   "source": [
    "def parentSelection(population, poolSize=None):\n",
    "    \n",
    "    # TODO 3 (10 marks) - Replace the dummy parent selection function below with  \n",
    "    # Proportional Selection.\n",
    "      \n",
    "    # Marking scheme: \n",
    "    # 7 to 10 marks:  Correct implementation. \n",
    "    # 5 to <7 marks:  Minor errors.\n",
    "    # >0 to <5 marks: Major errors. \n",
    "    # 0 marks:        No answer is given. \n",
    "    \n",
    "    # You will need to compare the performance achieved by Random Selection, \n",
    "    # Tournament Selection, and Proportional Selection during performance evaluation \n",
    "    # later. So, you will run either Random Selection, Tournament Selection, or \n",
    "    # Proportional Selection in a simulation run.\n",
    "    \n",
    "    if poolSize == None:\n",
    "        poolSize = len(population)\n",
    "        \n",
    "    matingPool = []\n",
    "    chromosome_fitness = []\n",
    "    sumfitness = 0.0\n",
    "    \n",
    "    # Replacement starts here\n",
    "\n",
    "    for i in range(0, poolSize):\n",
    "        chromosome_fitness.append(Fitness(population[i]).routeFitness())\n",
    "        sumfitness += Fitness(population[i]).routeFitness()\n",
    "\n",
    "    print(\"Sum fitness = \" + str(sumfitness))\n",
    "\n",
    "    j = 0\n",
    "    for j in range(0, poolSize):\n",
    "        choice = random.uniform(0, sumfitness)\n",
    "        print(\"Choice = \" + str(choice))\n",
    "        count = 0\n",
    "\n",
    "        for k in range(0, poolSize):\n",
    "            if count < choice:\n",
    "                count += chromosome_fitness[k]\n",
    "                print(\"Count = \" + str(count))\n",
    "            \n",
    "                if count >= choice:\n",
    "                    matingPool.append(population[k])\n",
    "                    break\n",
    "\n",
    "        \n",
    "    # Replacement ends here\n",
    "    \n",
    "    return matingPool"
   ]
  },
  {
   "cell_type": "markdown",
   "id": "767df4e1",
   "metadata": {},
   "source": [
    "### Survival Selection"
   ]
  },
  {
   "cell_type": "code",
   "execution_count": 141,
   "id": "80f74e5a",
   "metadata": {},
   "outputs": [],
   "source": [
    "def survivorSelection(population, eliteSize):\n",
    "    \n",
    "    # TODO 4 (10 marks) - Replace the dummy survival selection function below with  \n",
    "    # Merge, Sort & Truncate.\n",
    "      \n",
    "    # Marking scheme: \n",
    "    # 7 to 10 marks:  Correct implementation. \n",
    "    # 5 to <7 marks:  Minor errors.\n",
    "    # >0 to <5 marks: Major errors. \n",
    "    # 0 marks:        No answer is given. \n",
    "    \n",
    "    elites = [] # List to store the elite routes\n",
    "    \n",
    "    # ----------------------------------Replacement starts here---------------------------------------\n",
    "\n",
    "    # Sort the population based on fitness score in descending order.\n",
    "    sortedPopulation = sorted(population, key=lambda x: Fitness(x).routeFitness(), reverse=True)\n",
    "\n",
    "    # sorted() = a function that returns a new sorted list\n",
    "    # population = the list to be sorted\n",
    "    # Fitness (x).routeFitness() =  use Fitness class with x as its input, then calculates the fitness score for the route.\n",
    "    # reverse = True --> sort the list in descending order (high fitness score is the first in list)\n",
    "\n",
    "    # Select the top eliteSize routes as elites\n",
    "    elites = sortedPopulation[:eliteSize]\n",
    "\n",
    "    # [:eliteSize] = slice the first eliceSize elements\n",
    "    \n",
    " \n",
    "    # ----------------------------------Replacement ends here---------------------------------------\n",
    "\n",
    "    return elites"
   ]
  },
  {
   "cell_type": "markdown",
   "id": "c003d631",
   "metadata": {},
   "source": [
    "You can run the above functions using the sample runs below. To do so, simply change the cell type from Markdown to Code. \n",
    "\n",
    "Sample run 1 initializes 10 cities in cityList, creates a population with four routes, and creates a pool of parents as follows:"
   ]
  },
  {
   "cell_type": "code",
   "execution_count": 142,
   "id": "cb064cc7",
   "metadata": {},
   "outputs": [
    {
     "ename": "FileNotFoundError",
     "evalue": "[Errno 2] No such file or directory: 'cities10.txt'",
     "output_type": "error",
     "traceback": [
      "\u001b[1;31m---------------------------------------------------------------------------\u001b[0m",
      "\u001b[1;31mFileNotFoundError\u001b[0m                         Traceback (most recent call last)",
      "Cell \u001b[1;32mIn[142], line 1\u001b[0m\n\u001b[1;32m----> 1\u001b[0m population \u001b[38;5;241m=\u001b[39m initialPopulation(\u001b[38;5;241m4\u001b[39m, genCityList(\u001b[38;5;124m'\u001b[39m\u001b[38;5;124mcities10.txt\u001b[39m\u001b[38;5;124m'\u001b[39m))\n\u001b[0;32m      2\u001b[0m matingpool \u001b[38;5;241m=\u001b[39m parentSelection(population, \u001b[38;5;241m4\u001b[39m) \n\u001b[0;32m      3\u001b[0m \u001b[38;5;28mprint\u001b[39m(\u001b[38;5;124m'\u001b[39m\u001b[38;5;124mInitial population\u001b[39m\u001b[38;5;124m'\u001b[39m) \n",
      "Cell \u001b[1;32mIn[131], line 16\u001b[0m, in \u001b[0;36mgenCityList\u001b[1;34m(filename)\u001b[0m\n\u001b[0;32m      3\u001b[0m cityList \u001b[38;5;241m=\u001b[39m []\n\u001b[0;32m      5\u001b[0m \u001b[38;5;66;03m# TODO 1 (10 marks) - Replace the following codes that generate 10 random cities.\u001b[39;00m\n\u001b[0;32m      6\u001b[0m \u001b[38;5;66;03m# Your new implementation must read a set of cities from the filename to be used for creating \u001b[39;00m\n\u001b[0;32m      7\u001b[0m \u001b[38;5;66;03m# an initial population.  \u001b[39;00m\n\u001b[1;32m   (...)\u001b[0m\n\u001b[0;32m     14\u001b[0m \n\u001b[0;32m     15\u001b[0m \u001b[38;5;66;03m# -----------------------------Replacement starts here--------------------------------\u001b[39;00m\n\u001b[1;32m---> 16\u001b[0m \u001b[38;5;28;01mwith\u001b[39;00m \u001b[38;5;28mopen\u001b[39m(filename, \u001b[38;5;124m'\u001b[39m\u001b[38;5;124mr\u001b[39m\u001b[38;5;124m'\u001b[39m) \u001b[38;5;28;01mas\u001b[39;00m file:\n\u001b[0;32m     17\u001b[0m     \u001b[38;5;28mnext\u001b[39m(file)  \u001b[38;5;66;03m# Skip the first line\u001b[39;00m\n\u001b[0;32m     19\u001b[0m     \u001b[38;5;28;01mfor\u001b[39;00m line \u001b[38;5;129;01min\u001b[39;00m file:\n",
      "File \u001b[1;32mD:\\Software\\Anaconda\\Lib\\site-packages\\IPython\\core\\interactiveshell.py:310\u001b[0m, in \u001b[0;36m_modified_open\u001b[1;34m(file, *args, **kwargs)\u001b[0m\n\u001b[0;32m    303\u001b[0m \u001b[38;5;28;01mif\u001b[39;00m file \u001b[38;5;129;01min\u001b[39;00m {\u001b[38;5;241m0\u001b[39m, \u001b[38;5;241m1\u001b[39m, \u001b[38;5;241m2\u001b[39m}:\n\u001b[0;32m    304\u001b[0m     \u001b[38;5;28;01mraise\u001b[39;00m \u001b[38;5;167;01mValueError\u001b[39;00m(\n\u001b[0;32m    305\u001b[0m         \u001b[38;5;124mf\u001b[39m\u001b[38;5;124m\"\u001b[39m\u001b[38;5;124mIPython won\u001b[39m\u001b[38;5;124m'\u001b[39m\u001b[38;5;124mt let you open fd=\u001b[39m\u001b[38;5;132;01m{\u001b[39;00mfile\u001b[38;5;132;01m}\u001b[39;00m\u001b[38;5;124m by default \u001b[39m\u001b[38;5;124m\"\u001b[39m\n\u001b[0;32m    306\u001b[0m         \u001b[38;5;124m\"\u001b[39m\u001b[38;5;124mas it is likely to crash IPython. If you know what you are doing, \u001b[39m\u001b[38;5;124m\"\u001b[39m\n\u001b[0;32m    307\u001b[0m         \u001b[38;5;124m\"\u001b[39m\u001b[38;5;124myou can use builtins\u001b[39m\u001b[38;5;124m'\u001b[39m\u001b[38;5;124m open.\u001b[39m\u001b[38;5;124m\"\u001b[39m\n\u001b[0;32m    308\u001b[0m     )\n\u001b[1;32m--> 310\u001b[0m \u001b[38;5;28;01mreturn\u001b[39;00m io_open(file, \u001b[38;5;241m*\u001b[39margs, \u001b[38;5;241m*\u001b[39m\u001b[38;5;241m*\u001b[39mkwargs)\n",
      "\u001b[1;31mFileNotFoundError\u001b[0m: [Errno 2] No such file or directory: 'cities10.txt'"
     ]
    }
   ],
   "source": [
    "population = initialPopulation(4, genCityList('cities10.txt'))\n",
    "matingpool = parentSelection(population, 4) \n",
    "print('Initial population') \n",
    "print(population) \n",
    "print('Mating pool') \n",
    "print(matingpool)"
   ]
  },
  {
   "cell_type": "markdown",
   "id": "c4431342",
   "metadata": {},
   "source": [
    "Sample run 2 initializes 10 cities in cityList, creates a population with four routes, select an elite chromosome as follows:"
   ]
  },
  {
   "cell_type": "code",
   "execution_count": null,
   "id": "d5a0593b",
   "metadata": {},
   "outputs": [
    {
     "name": "stdout",
     "output_type": "stream",
     "text": [
      "'Initial population'\n",
      "[[(89,52),\n",
      "  (15,46),\n",
      "  (100,64),\n",
      "  (40,64),\n",
      "  (26,39),\n",
      "  (10,31),\n",
      "  (20,91),\n",
      "  (92,57),\n",
      "  (57,30),\n",
      "  (79,36)],\n",
      " [(100,64),\n",
      "  (15,46),\n",
      "  (92,57),\n",
      "  (79,36),\n",
      "  (57,30),\n",
      "  (10,31),\n",
      "  (40,64),\n",
      "  (26,39),\n",
      "  (20,91),\n",
      "  (89,52)],\n",
      " [(89,52),\n",
      "  (100,64),\n",
      "  (26,39),\n",
      "  (57,30),\n",
      "  (79,36),\n",
      "  (40,64),\n",
      "  (10,31),\n",
      "  (20,91),\n",
      "  (15,46),\n",
      "  (92,57)],\n",
      " [(15,46),\n",
      "  (100,64),\n",
      "  (57,30),\n",
      "  (40,64),\n",
      "  (92,57),\n",
      "  (26,39),\n",
      "  (79,36),\n",
      "  (89,52),\n",
      "  (20,91),\n",
      "  (10,31)]]\n",
      "'Selected elites'\n",
      "[[(89,52),\n",
      "  (100,64),\n",
      "  (26,39),\n",
      "  (57,30),\n",
      "  (79,36),\n",
      "  (40,64),\n",
      "  (10,31),\n",
      "  (20,91),\n",
      "  (15,46),\n",
      "  (92,57)]]\n"
     ]
    }
   ],
   "source": [
    "population = initialPopulation(4, genCityList(\"C:\\\\Users\\\\User\\\\Desktop\\\\Jupyter NoteBook\\\\AI_Week 7_Practical\\\\Lab_2_Genetic_Algorithm\\\\cities50.txt\"))\n",
    "elites = survivorSelection(population, 1)\n",
    "print('Initial population')\n",
    "print(population)\n",
    "print('Selected elites')\n",
    "print(elites)"
   ]
  },
  {
   "cell_type": "markdown",
   "id": "ebba82a2",
   "metadata": {},
   "source": [
    "## Crossover\n"
   ]
  },
  {
   "cell_type": "markdown",
   "id": "3c655d11",
   "metadata": {},
   "source": [
    "Crossover selects two parents, crossover the genetic materials of the parents, and produce one or more children. In the Travelling Salesman Problem, each travelling path must be valid. Each path consists all cities in the set, and each path visits each of the cities once only. So, none of the cities are visited more than once. Exchanging parts of two chromosomes tend to produce invalid paths. As an example, Parent 1 is [2 1 0 7 3 5 4 6] and Parent 2 is [6 1 0 5 2 3 4 7]. One point crossover at midpoint generates Child 1 [2 1 0 7 2 3 4 7] and Child 2 [6 1 0 5 3 5 4 6]. Both children are invalid paths.     "
   ]
  },
  {
   "cell_type": "code",
   "execution_count": null,
   "id": "2bb0c8be",
   "metadata": {},
   "outputs": [],
   "source": [
    "def crossover(parent1, parent2):\n",
    "    \n",
    "    # TODO 5 (10 marks) - Replace the dummy crossover function below with \n",
    "    # Partially Mapped Crossover approach.\n",
    "   \n",
    "    # Marking scheme: \n",
    "    # 7 to 10 marks:  Correct implementation. \n",
    "    # 5 to <7 marks:  Minor errors.\n",
    "    # >0 to <5 marks: Major errors. \n",
    "    # 0 marks:        No answer is given. \n",
    "    \n",
    "    # Replacement starts here\n",
    "    child1 = parent1\n",
    "    child2 = parent2\n",
    "    child1 = np.append(parent1[:x],parent2[x:])\n",
    "    child2 = np.append(parent2[:x],parent1[x:])\n",
    "    # Replacement ends here\n",
    "    \n",
    "    return child1, child2"
   ]
  },
  {
   "cell_type": "markdown",
   "id": "48ca735c",
   "metadata": {},
   "source": [
    "Crossover selects two parents from the mating pool to produce a new generation of the same size."
   ]
  },
  {
   "cell_type": "code",
   "execution_count": null,
   "id": "308e4680",
   "metadata": {},
   "outputs": [],
   "source": [
    "def breedPopulation(matingpool):\n",
    "    children = []\n",
    "    \n",
    "    # Choosing parents in their order of presence in the mating pool. Choosing parents\n",
    "    # in a random manner is possible. \n",
    "    \n",
    "    for i in range(1, len(matingpool), 2):\n",
    "        child1, child2 = crossover(matingpool[i-1], matingpool[i])\n",
    "        children.append(child1)\n",
    "        children.append(child2)\n",
    "    \n",
    "    return children"
   ]
  },
  {
   "cell_type": "markdown",
   "id": "2152fd9e",
   "metadata": {},
   "source": [
    "You can run the above functions using the sample run below. To do so, simply change the cell type from Markdown to Code. The sample run initializes 2 chromosomes in the population, and performs crossover among the two parents. "
   ]
  },
  {
   "cell_type": "code",
   "execution_count": null,
   "id": "7b02b58d",
   "metadata": {},
   "outputs": [],
   "source": [
    "population = initialPopulation(2, genCityList(\"C:\\\\Users\\\\User\\\\Desktop\\\\Jupyter NoteBook\\\\AI_Week 7_Practical\\\\Lab_2_Genetic_Algorithm\\\\cities50.txt\"))\n",
    "parent1, parent2 = population\n",
    "child1, child2 = crossover(parent1, parent2)\n",
    "print('Parents')\n",
    "print(parent1)\n",
    "print(parent2)\n",
    "print('Children')\n",
    "print(child1)\n",
    "print(child2)"
   ]
  },
  {
   "cell_type": "markdown",
   "id": "0508e984",
   "metadata": {},
   "source": [
    "## Mutation"
   ]
  },
  {
   "cell_type": "markdown",
   "id": "e741bcba",
   "metadata": {},
   "source": [
    "Mutation mutates a single chromosome to get a mutated chromosome so that genetic algorithm can converge to a shorter path quickly. In the Travelling Saleman Problem, a mutated chromosome must be a valid path. As an example, the insertion mutation randomly inserts a single gene in the [1 2 3 4 5 6 7 8 9 10] chromosome to generate the [1 2 4 5 6 7 3 8 9 10] mutated chromosome. Step 1: select a gene randomly, Step 2: insert this gene into a randomly selected location."
   ]
  },
  {
   "cell_type": "code",
   "execution_count": null,
   "id": "fcc4c53b",
   "metadata": {},
   "outputs": [],
   "source": [
    "def mutate(route, mutationProbability):\n",
    "    \n",
    "    # TODO 6 (10 marks) - Replace the dummy mutation function below with Insertion Mutation.\n",
    "    # The dummy mutation function simply swaps a city with the city before it.  \n",
    "   \n",
    "    # Marking scheme: \n",
    "    # 7 to 10 marks:  Correct implementation. \n",
    "    # 5 to <7 marks:  Minor errors.\n",
    "    # >0 to <5 marks: Major errors. \n",
    "    # 0 marks:        No answer is given. \n",
    "     \n",
    "    mutated_route = route[:]\n",
    "    for i in range(len(route)):\n",
    "        if (random.random() < mutationProbability):\n",
    "            # mutationProbability is the probability of a gene undergoing mutation\n",
    "            \n",
    "            # Replacement starts here\n",
    "            \n",
    "            # city1 = route[i]\n",
    "            # city2 = route[i-1]\n",
    "            # mutated_route[i] = city2\n",
    "            # mutated_route[i-1] = city1\n",
    "\n",
    "            print(i)\n",
    "            city = mutated_route.pop(i)\n",
    "            insert_point = random.randint(0, len(mutated_route))\n",
    "            mutated_route.insert(insert_point, city)\n",
    "\n",
    "            print(mutated_route)\n",
    "            # Replacement ends here\n",
    "            \n",
    "    return mutated_route"
   ]
  },
  {
   "cell_type": "markdown",
   "id": "561658a7",
   "metadata": {},
   "source": [
    "Mutation runs over the entire population and mutates each chromosome in the population with a small mutationProbability. "
   ]
  },
  {
   "cell_type": "code",
   "execution_count": null,
   "id": "18bcf873",
   "metadata": {},
   "outputs": [],
   "source": [
    "def mutation(population, mutationProbability):\n",
    "    mutatedPopulation = []\n",
    "    for i in range(0, len(population)):\n",
    "        mutatedIndividual = mutate(population[i], mutationProbability)\n",
    "        mutatedPopulation.append(mutatedIndividual)\n",
    "    return mutatedPopulation"
   ]
  },
  {
   "cell_type": "markdown",
   "id": "e2c7728f",
   "metadata": {},
   "source": [
    "You can run the above functions using the sample run below. To do so, simply change the cell type from Markdown to Code. The sample run initializes a route comprised of 10 cities in cityList, and then mutates it as follows:"
   ]
  },
  {
   "cell_type": "code",
   "execution_count": null,
   "id": "4b9fa051",
   "metadata": {},
   "outputs": [],
   "source": [
    "route = genCityList('cities10.txt')\n",
    "mutated = mutate(route, 1)  # Give a pretty high chance for mutation\n",
    "print('Original route')\n",
    "print(route)\n",
    "print('Mutated route')\n",
    "print(mutated)"
   ]
  },
  {
   "cell_type": "markdown",
   "id": "1c0cf960",
   "metadata": {},
   "source": [
    "## Running One Generation (or Interation)"
   ]
  },
  {
   "cell_type": "markdown",
   "id": "2e4e26f5",
   "metadata": {},
   "source": [
    "Here, we run one generation of genetic algorithm. "
   ]
  },
  {
   "cell_type": "code",
   "execution_count": null,
   "id": "57f76661",
   "metadata": {},
   "outputs": [],
   "source": [
    "def oneGeneration(population, eliteSize, mutationProbability):\n",
    "    \n",
    "    # First we preserve the elites\n",
    "    elites = survivorSelection(population, eliteSize)\n",
    "    \n",
    "    # Then we calculate what our mating pool size should be and generate\n",
    "    # the mating pool\n",
    "    poolSize = len(population) - eliteSize\n",
    "    matingpool = parentSelection(population, poolSize)\n",
    "        \n",
    "    # Then we perform crossover on the mating pool\n",
    "    children = breedPopulation(matingpool)\n",
    "    \n",
    "    # We combine the elites and children into one population\n",
    "    new_population = elites + children\n",
    "    \n",
    "    # We mutate the population\n",
    "    mutated_population = mutation(new_population, mutationProbability)\n",
    "        \n",
    "    return mutated_population"
   ]
  },
  {
   "cell_type": "markdown",
   "id": "daa87ed8",
   "metadata": {},
   "source": [
    "You can run the above functions using the sample run below. To do so, simply change the cell type from Markdown to Code. The sample run initializes a population comprised of 5 chromosomes based on 10 cities in cityList, and then run one generation (or iteration) of genetic algorithm as follows:"
   ]
  },
  {
   "cell_type": "markdown",
   "id": "0f2a347b",
   "metadata": {},
   "source": [
    "population = initialPopulation(5, genCityList('cities10.txt'))\n",
    "eliteSize = 1\n",
    "mutationProbability = 0.01\n",
    "new_population = oneGeneration(population, eliteSize, mutationProbability)\n",
    "print('Initial population')\n",
    "print(population)\n",
    "print('New population')\n",
    "print(new_population)"
   ]
  },
  {
   "cell_type": "markdown",
   "id": "500893f7",
   "metadata": {},
   "source": [
    "## Running Many Generations (or Interations) "
   ]
  },
  {
   "cell_type": "code",
   "execution_count": null,
   "id": "cc61b752",
   "metadata": {},
   "outputs": [],
   "source": [
    "filename = 'cities50.txt'\n",
    "popSize = 20\n",
    "eliteSize = 5\n",
    "mutationProbability = 0.01\n",
    "iteration_limit = 100\n",
    "\n",
    "cityList = genCityList(filename)\n",
    "\n",
    "population = initialPopulation(popSize, cityList)\n",
    "distances = [Fitness(p).routeDistance() for p in population]\n",
    "min_dist = min(distances)\n",
    "print(\"Best distance for initial population: \" + str(min_dist))\n",
    "\n",
    "for i in range(iteration_limit):\n",
    "    population = oneGeneration(population, eliteSize, mutationProbability)\n",
    "    distances = [Fitness(p).routeDistance() for p in population]\n",
    "    index = np.argmin(distances)\n",
    "    best_route = population[index]\n",
    "    min_dist = min(distances)\n",
    "    print(\"Best distance for population in iteration \" + str(i) +\n",
    "          \": \" + str(min_dist))\n",
    "\n",
    "print(\"Optimal path is \" + str(best_route)) \n",
    "\n",
    "    # TODO 7 (10 marks) - Performance Evaluation. You will present the performance achieved \n",
    "    # by different parent selection function. You will compare the \n",
    "    # performance achieved by Random Selection, Tournament Selection, and Proportional Selection. \n",
    "   \n",
    "    # Marking scheme: \n",
    "    # 7 to 10 marks:  In-depth performance evaluation. Optimal routes are found. \n",
    "    # 5 to <7 marks:  Clear understanding of performance evaluation.\n",
    "    # >0 to <5 marks: Inaccurate or unclear understanding of performance evaluation. \n",
    "    # 0 marks:        No answer is given. \n",
    "    \n",
    "  "
   ]
  }
 ],
 "metadata": {
  "kernelspec": {
   "display_name": "Python 3 (ipykernel)",
   "language": "python",
   "name": "python3"
  },
  "language_info": {
   "codemirror_mode": {
    "name": "ipython",
    "version": 3
   },
   "file_extension": ".py",
   "mimetype": "text/x-python",
   "name": "python",
   "nbconvert_exporter": "python",
   "pygments_lexer": "ipython3",
   "version": "3.11.7"
  }
 },
 "nbformat": 4,
 "nbformat_minor": 5
}
