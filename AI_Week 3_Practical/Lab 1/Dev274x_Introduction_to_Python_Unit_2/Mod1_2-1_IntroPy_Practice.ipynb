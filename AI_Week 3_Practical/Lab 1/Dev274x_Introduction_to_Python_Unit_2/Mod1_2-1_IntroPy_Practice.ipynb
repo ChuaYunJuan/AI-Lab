{
 "cells": [
  {
   "cell_type": "markdown",
   "metadata": {},
   "source": [
    "# 2-1 Intro Python Practice\n",
    "## Sequence: String\n",
    "\n",
    "<font size=\"5\" color=\"#00A0B2\"  face=\"verdana\"> <B>Student will be able to</B></font>  \n",
    "- Work with String Characters\n",
    "- Slice strings into substrings\n",
    "- Iterate through String Characters\n",
    "- Use String ~~Tricks~~ Methods"
   ]
  },
  {
   "cell_type": "markdown",
   "metadata": {},
   "source": [
    "# &nbsp;\n",
    "<font size=\"6\" color=\"#B24C00\"  face=\"verdana\"> <B>Task 1</B></font>\n",
    "##  Access String Characters \n",
    "### `working_string[index]`\n"
   ]
  },
  {
   "cell_type": "code",
   "execution_count": 2,
   "metadata": {
    "collapsed": false,
    "jupyter": {
     "outputs_hidden": false
    }
   },
   "outputs": [
    {
     "name": "stdout",
     "output_type": "stream",
     "text": [
      "u\n"
     ]
    }
   ],
   "source": [
    "# [ ] access and print the second character from planet_name: \"u\"\n",
    "planet_name = \"Jupiter\"\n",
    "\n",
    "print (planet_name[1])"
   ]
  },
  {
   "cell_type": "code",
   "execution_count": 31,
   "metadata": {
    "collapsed": false,
    "jupyter": {
     "outputs_hidden": false
    }
   },
   "outputs": [
    {
     "name": "stdout",
     "output_type": "stream",
     "text": [
      "J\n"
     ]
    }
   ],
   "source": [
    "# [ ] access and print the first character from planet_name: \"J\"\n",
    "planet_name = \"Jupiter\"\n",
    "\n",
    "print (planet_name[0])"
   ]
  },
  {
   "cell_type": "code",
   "execution_count": 11,
   "metadata": {
    "collapsed": false,
    "jupyter": {
     "outputs_hidden": false
    }
   },
   "outputs": [
    {
     "name": "stdout",
     "output_type": "stream",
     "text": [
      "J r\n"
     ]
    }
   ],
   "source": [
    "# [ ] access and print the first and last characters from planet_name\n",
    "planet_name = \"Jupiter\"\n",
    "\n",
    "print (planet_name[0], planet_name[-1])"
   ]
  },
  {
   "cell_type": "code",
   "execution_count": 13,
   "metadata": {
    "collapsed": false,
    "jupyter": {
     "outputs_hidden": false
    }
   },
   "outputs": [
    {
     "name": "stdout",
     "output_type": "stream",
     "text": [
      "J\n"
     ]
    }
   ],
   "source": [
    "# [ ] using a negative index access and print the first character from planet_name: \"J\"\n",
    "planet_name = \"Jupiter\"\n",
    "\n",
    "print (planet_name[-7])"
   ]
  },
  {
   "cell_type": "markdown",
   "metadata": {},
   "source": [
    "# &nbsp;\n",
    "<font size=\"6\" color=\"#B24C00\"  face=\"verdana\"> <B>Task 2</B></font>\n",
    "## slice\n",
    "### `working_string[start:stop]`\n",
    "### `working_string[start:stop:step]`"
   ]
  },
  {
   "cell_type": "code",
   "execution_count": 29,
   "metadata": {
    "collapsed": false,
    "jupyter": {
     "outputs_hidden": false
    }
   },
   "outputs": [
    {
     "name": "stdout",
     "output_type": "stream",
     "text": [
      "Nep tune\n"
     ]
    }
   ],
   "source": [
    "# [ ] print planet_name sliced into the first 3 characters and remaining characters\n",
    "planet_name = \"Neptune\"\n",
    "\n",
    "start = planet_name[:3]\n",
    "end = planet_name[3:]\n",
    "\n",
    "print(start, end)"
   ]
  },
  {
   "cell_type": "code",
   "execution_count": 33,
   "metadata": {
    "collapsed": false,
    "jupyter": {
     "outputs_hidden": false
    }
   },
   "outputs": [
    {
     "name": "stdout",
     "output_type": "stream",
     "text": [
      "Python\n"
     ]
    }
   ],
   "source": [
    "# [ ] print 1st char and then every 3rd char of wise_words\n",
    "# use string slice with a step\n",
    "wise_words = 'Play it who opens'\n",
    "\n",
    "print (wise_words[::3])\n",
    "# [::3] -- has a step of 3\n"
   ]
  },
  {
   "cell_type": "code",
   "execution_count": 55,
   "metadata": {
    "collapsed": false,
    "jupyter": {
     "outputs_hidden": false
    }
   },
   "outputs": [
    {
     "name": "stdout",
     "output_type": "stream",
     "text": [
      "enutpeN\n"
     ]
    }
   ],
   "source": [
    "# [ ] print planet_name in reverse\n",
    "planet_name = \"Neptune\"\n",
    "\n",
    "print (planet_name[::-1])"
   ]
  },
  {
   "cell_type": "markdown",
   "metadata": {
    "collapsed": true,
    "jupyter": {
     "outputs_hidden": true
    }
   },
   "source": [
    "# &nbsp;\n",
    "<font size=\"6\" color=\"#B24C00\"  face=\"verdana\"> <B>Task 3</B></font>\n",
    "\n",
    "## iterate a String\n",
    "### `for letter in sentence:`"
   ]
  },
  {
   "cell_type": "code",
   "execution_count": 57,
   "metadata": {
    "collapsed": false,
    "jupyter": {
     "outputs_hidden": false
    }
   },
   "outputs": [
    {
     "name": "stdin",
     "output_type": "stream",
     "text": [
      "Please enter 1 of yours favourite food:  apple\n"
     ]
    },
    {
     "name": "stdout",
     "output_type": "stream",
     "text": [
      "a\n",
      "p\n",
      "p\n",
      "l\n",
      "e\n"
     ]
    }
   ],
   "source": [
    "# [ ] Get user input for 1 fav_food\n",
    "# [ ] iterate through letters in fav_food \n",
    "#    - print each letter on a new line\n",
    "\n",
    "fav_food = input(\"Please enter 1 of yours favourite food: \")\n",
    "\n",
    "for letter in fav_food:\n",
    "    print (letter)\n"
   ]
  },
  {
   "cell_type": "code",
   "execution_count": 59,
   "metadata": {
    "collapsed": false,
    "jupyter": {
     "outputs_hidden": false
    }
   },
   "outputs": [
    {
     "name": "stdout",
     "output_type": "stream",
     "text": [
      "Good-code-is-commented-code\n"
     ]
    }
   ],
   "source": [
    "# [ ] iterate work_tip string concatenate each letter to variable: new_string \n",
    "# [ ] concatenate the letter or a \"-\" instead of a space \" \"\n",
    "# tip: concatenate string example: word = word + \"a\"\n",
    "work_tip = \"Good code is commented code\"\n",
    "\n",
    "new_string = \"\"\n",
    "# To initialize a new string to store the new concaatenated string\n",
    "\n",
    "for letter in work_tip:\n",
    "    if letter == \" \":\n",
    "        new_string += \"-\"\n",
    "    else:\n",
    "        new_string += letter\n",
    "\n",
    "print (new_string)"
   ]
  },
  {
   "cell_type": "code",
   "execution_count": 75,
   "metadata": {
    "collapsed": false,
    "jupyter": {
     "outputs_hidden": false
    }
   },
   "outputs": [
    {
     "name": "stdout",
     "output_type": "stream",
     "text": [
      "H\n",
      "i\n",
      "r\n",
      "o\n",
      "Hiro\n"
     ]
    }
   ],
   "source": [
    "# [ ] Print the first 4 letters of name on new line\n",
    "name = \"Hiroto\"\n",
    "\n",
    "for letter in name[:4]:\n",
    "    print(letter)\n",
    "\n",
    "print (name[:4])"
   ]
  },
  {
   "cell_type": "code",
   "execution_count": 87,
   "metadata": {
    "collapsed": false,
    "jupyter": {
     "outputs_hidden": false
    }
   },
   "outputs": [
    {
     "name": "stdout",
     "output_type": "stream",
     "text": [
      "roto \n",
      "\n",
      "r\n",
      "o\n",
      "t\n",
      "o\n"
     ]
    }
   ],
   "source": [
    "# [ ] Print every other letter from 2nd to last letter of name \n",
    "name = \"Hiroto\"\n",
    "\n",
    "print (name[2:],\"\\n\")\n",
    "\n",
    "for letter in name[2:]:\n",
    "    print (letter)"
   ]
  },
  {
   "cell_type": "markdown",
   "metadata": {},
   "source": [
    "# &nbsp;\n",
    "<font size=\"6\" color=\"#B24C00\"  face=\"verdana\"> <B>Task 4</B></font>\n",
    "\n",
    "## Program: Mystery Name\n",
    "- get user input for first_name\n",
    "- create an empty string variable: new_name\n",
    "- iterate through letters in first_name Backwards \n",
    "  - add each letter to new_name as you iterate\n",
    "  - Replace the letter if \"e\", \"t\" or \"a\" with \"?\" *(hint: if, elif, elif, else)*\n",
    "- print new_name  \n",
    "\n",
    "**example: \"Alton\" = \"no?l?\"**"
   ]
  },
  {
   "cell_type": "code",
   "execution_count": 99,
   "metadata": {
    "collapsed": false,
    "jupyter": {
     "outputs_hidden": false
    }
   },
   "outputs": [
    {
     "name": "stdin",
     "output_type": "stream",
     "text": [
      "Please eneter your first name: Alton\n"
     ]
    },
    {
     "name": "stdout",
     "output_type": "stream",
     "text": [
      "no?lA\n"
     ]
    }
   ],
   "source": [
    "# [ ] Create Mystery Name\n",
    "\n",
    "first_name = input(\"Please eneter your first name:\")\n",
    "\n",
    "new_name = \"\"\n",
    "\n",
    "for letter in first_name:\n",
    "    if letter == \"e\" and \"E\":\n",
    "        new_name += '?'\n",
    "    elif letter == \"t\" and \"T\":\n",
    "        new_name += '?'\n",
    "    elif letter == \"a\" and \"A\":\n",
    "        new_name += '?'\n",
    "    else:\n",
    "        new_name += letter\n",
    "        \n",
    "print(new_name[::-1])"
   ]
  },
  {
   "cell_type": "markdown",
   "metadata": {},
   "source": [
    "# &nbsp;\n",
    "<font size=\"6\" color=\"#B24C00\"  face=\"verdana\"> <B>Task 4</B></font>\n",
    "## `len(), .find(), .count()`   \n",
    "\n",
    "```  \n",
    "- len(working_string)\n",
    "- .find(\"i\")\n",
    "- .find(\"i\",start)\n",
    "- .find(\"i\", start, end)\n",
    "- .count(\"i\")\n",
    "- .count(\"i\", start)\n",
    "- .count(\"i\", start, end)\n",
    "```   "
   ]
  },
  {
   "cell_type": "code",
   "execution_count": 101,
   "metadata": {
    "collapsed": false,
    "jupyter": {
     "outputs_hidden": false
    }
   },
   "outputs": [
    {
     "data": {
      "text/plain": [
       "36"
      ]
     },
     "execution_count": 101,
     "metadata": {},
     "output_type": "execute_result"
    }
   ],
   "source": [
    "# [ ] find and display the length of the string: topic\n",
    "topic = \"len() returns the length of a string\"\n",
    "\n",
    "len(topic)"
   ]
  },
  {
   "cell_type": "code",
   "execution_count": 105,
   "metadata": {
    "collapsed": false,
    "jupyter": {
     "outputs_hidden": false
    }
   },
   "outputs": [
    {
     "name": "stdout",
     "output_type": "stream",
     "text": [
      "Midpoint index: 28\n",
      "Characters around the midpoint: lik\n"
     ]
    }
   ],
   "source": [
    "# [ ] use len() to find and display the mid_pt (middle) index (+/- 1) of the string: topic\n",
    "# note: index values are whole numbers\n",
    "topic = \"len() can take a sequence, like a string, as an argument\"\n",
    "\n",
    "# Calculate the midpoint index\n",
    "mid_pt = len(topic) // 2\n",
    "\n",
    "# Display the midpoint index and the characters around it\n",
    "print(\"Midpoint index:\", mid_pt)\n",
    "print(\"Characters around the midpoint:\", topic[mid_pt - 1 : mid_pt + 2])"
   ]
  },
  {
   "cell_type": "code",
   "execution_count": 107,
   "metadata": {
    "collapsed": false,
    "jupyter": {
     "outputs_hidden": false
    }
   },
   "outputs": [
    {
     "name": "stdout",
     "output_type": "stream",
     "text": [
      "New_Index: 5\n"
     ]
    }
   ],
   "source": [
    "# [ ] print index where first instance of the word  \"code\" starts using .find()\n",
    "work_tip = \"Good code is commented code\"\n",
    "\n",
    "index = work_tip.find(\"code\")\n",
    "\n",
    "print (\"New_Index:\", index)"
   ]
  },
  {
   "cell_type": "code",
   "execution_count": 115,
   "metadata": {
    "collapsed": false,
    "jupyter": {
     "outputs_hidden": false
    }
   },
   "outputs": [
    {
     "name": "stdout",
     "output_type": "stream",
     "text": [
      "Index of 'code' is found: 5\n",
      "commented code\n"
     ]
    }
   ],
   "source": [
    "# [ ] search for \"code\" in work_tip using .find() \n",
    "# [ ] search substring with substring index start= 13,end = last char \n",
    "# [ ] save result in variable: code_index\n",
    "# [ ] display index of where \"code\" is found, or print \"not found\" if code_index == -1\n",
    "work_tip = \"Good code is commented code\"\n",
    "\n",
    "# Search for \"code\" in work_tip \n",
    "code_index = work_tip.find(\"code\")\n",
    "\n",
    "# Search substring with substring index start= 13, end = last char\n",
    "substring_index = work_tip[13:]\n",
    "\n",
    "# Display index of where \"code\" is found, or print \"not found\" if code_index == -1\n",
    "if code_index != -1:\n",
    "    print(f\"Index of 'code' is found: {code_index}\")\n",
    "else:\n",
    "    print(\"Not found\")\n",
    "\n",
    "print (substring_index)"
   ]
  },
  {
   "cell_type": "markdown",
   "metadata": {
    "collapsed": true,
    "jupyter": {
     "outputs_hidden": true
    }
   },
   "source": [
    "# &nbsp;\n",
    "<font size=\"6\" color=\"#B24C00\"  face=\"verdana\"> <B>Task 5</B></font>"
   ]
  },
  {
   "cell_type": "code",
   "execution_count": 129,
   "metadata": {
    "collapsed": false,
    "jupyter": {
     "outputs_hidden": false
    }
   },
   "outputs": [
    {
     "name": "stdout",
     "output_type": "stream",
     "text": [
      "Number of w's is: 0\n",
      "Number of o's is: 5\n",
      "Number of code is: 2\n"
     ]
    }
   ],
   "source": [
    "# [ ] find and report (print) number of w's, o's + use of word \"code\"\n",
    "work_tip = \"Good code is commented code\"\n",
    "\n",
    "number_of_w = work_tip.count(\"w\")\n",
    "number_of_o = work_tip.count(\"o\")\n",
    "number_of_code = work_tip.count(\"code\")\n",
    "\n",
    "print (f\"Number of w's is: {number_of_w}\")\n",
    "print (f\"Number of o's is: {number_of_o}\")\n",
    "print (f\"Number of code is: {number_of_code}\")\n"
   ]
  },
  {
   "cell_type": "code",
   "execution_count": 143,
   "metadata": {
    "collapsed": false,
    "jupyter": {
     "outputs_hidden": false
    }
   },
   "outputs": [
    {
     "name": "stdout",
     "output_type": "stream",
     "text": [
      "Number of times 'i' appears: 6\n",
      "The index of all letter i's: [11, 13, 22, 24, 29, 47]\n"
     ]
    }
   ],
   "source": [
    "# [ ]  count times letter \"i\" appears in code_tip string\n",
    "# [ ] find and display the index of all the letter i's in code_tip\n",
    "# Remember: if .find(\"i\") has No Match, -1 is returned\n",
    "code_tip = \"code a conditional decision like you would say it\"\n",
    "\n",
    "count_i = code_tip.count(\"i\")\n",
    "print(f\"Number of times 'i' appears: {count_i}\")\n",
    "\n",
    "indices_i = []\n",
    "\n",
    "for index, char in enumerate(code_tip):\n",
    "# 'enumerate' = function to iterate over a sequence and also keep the index of each item\n",
    "# How it Works:    \n",
    "# It takes an iterable (like a string, list, or tuple) as its argument.\n",
    "# Then, it returns an iterator that produces tuples of the form (index, element)\n",
    "# where index is the index of the current item, and element is the current item itself.    \n",
    "    if char == \"i\" and \"I\":\n",
    "        indices_i.append(index)\n",
    "\n",
    "print (f\"The index of all letter i's: {indices_i}\")\n"
   ]
  },
  {
   "cell_type": "markdown",
   "metadata": {},
   "source": [
    "# &nbsp;\n",
    "<font size=\"6\" color=\"#B24C00\"  face=\"verdana\"> <B>Task 6</B></font>\n",
    "\n",
    "## Program: Words after \"G\"/\"g\"\n",
    "Create a program inputs a phrase (like a famous quotation) and prints all of the words that start with h-z\n",
    "\n",
    "Sample input:  \n",
    "`enter a 1 sentence quote, non-alpha separate words:` **`Wheresoever you go, go with all your heart`**  \n",
    "\n",
    "Sample output:\n",
    "```\n",
    "WHERESOEVER\n",
    "YOU\n",
    "WITH\n",
    "YOUR\n",
    "HEART\n",
    "```\n",
    "- split the words by building a placeholder variable: **`word`**  \n",
    "  - loop each character in the input string  \n",
    "  - check if character is a letter  \n",
    "  - add a letter to **`word`** each loop until a non-alpha char is encountered  \n",
    "\n",
    "- **if** character is alpha \n",
    "  - add character to **`word`**    \n",
    "  - non-alpha detected (space, punctuation, digit,...) defines the end of a word and goes to **`else`**    \n",
    "- **`else`**  \n",
    "  - check **`if`** word is greater than \"g\" alphabetically\n",
    "      - print word \n",
    "      - set word = empty string\n",
    "  - or **else** \n",
    "    - set word = empty string and build the next word  \n",
    "\n",
    "Hint: use `.lower()`"
   ]
  },
  {
   "cell_type": "code",
   "execution_count": 147,
   "metadata": {
    "collapsed": false,
    "jupyter": {
     "outputs_hidden": false
    }
   },
   "outputs": [
    {
     "name": "stdin",
     "output_type": "stream",
     "text": [
      "Enter a 1 sentence quote, non-alpha separate words:  Wheresoever you go, go with all your heart\n"
     ]
    },
    {
     "name": "stdout",
     "output_type": "stream",
     "text": [
      "WHERESOEVER\n",
      "YOU\n",
      "WITH\n",
      "YOUR\n",
      "HEART\n"
     ]
    }
   ],
   "source": [
    "# [] create words after \"G\"\n",
    "# sample quote \"Wheresoever you go, go with all your heart\" ~ Confucius (551 BC - 479 BC)\n",
    "\n",
    "def filter_words_by_starting_letters(phrase):\n",
    "    words = phrase.split()\n",
    "    filtered_words = []\n",
    "\n",
    "    for word in words:\n",
    "        first_letter = word[0].upper()  # Get the first letter and convert to uppercase\n",
    "        if first_letter >= 'H' and first_letter <= 'Z':  # Check if it starts with a letter from 'H' to 'Z'\n",
    "            filtered_words.append(word.upper())  # Append the uppercase version of the word to the list\n",
    "    \n",
    "    return filtered_words\n",
    "\n",
    "# Input phrase from user\n",
    "phrase = input(\"Enter a 1 sentence quote, non-alpha separate words: \")\n",
    "\n",
    "# Call the function to filter words starting with 'h' to 'z'\n",
    "filtered_words = filter_words_by_starting_letters(phrase)\n",
    "\n",
    "# Print the filtered words\n",
    "for word in filtered_words:\n",
    "    print(word)"
   ]
  },
  {
   "cell_type": "markdown",
   "metadata": {
    "collapsed": true,
    "jupyter": {
     "outputs_hidden": true
    }
   },
   "source": [
    "[Terms of use](http://go.microsoft.com/fwlink/?LinkID=206977) &nbsp; [Privacy & cookies](https://go.microsoft.com/fwlink/?LinkId=521839) &nbsp; © 2017 Microsoft"
   ]
  }
 ],
 "metadata": {
  "anaconda-cloud": {},
  "kernelspec": {
   "display_name": "Python 3 (ipykernel)",
   "language": "python",
   "name": "python3"
  },
  "language_info": {
   "codemirror_mode": {
    "name": "ipython",
    "version": 3
   },
   "file_extension": ".py",
   "mimetype": "text/x-python",
   "name": "python",
   "nbconvert_exporter": "python",
   "pygments_lexer": "ipython3",
   "version": "3.11.7"
  }
 },
 "nbformat": 4,
 "nbformat_minor": 4
}
