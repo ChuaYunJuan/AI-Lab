{
 "cells": [
  {
   "cell_type": "markdown",
   "metadata": {},
   "source": [
    "# Numpy\n",
    "\n",
    "## Introduction\n",
    "\n",
    "Numpy stands for Numerical Python. The package comes with a lot of functionality, but the core is the `array` datatype.\n",
    "\n",
    "You can think of `np.array` objects as being similar to lists, but focused on maths rather than being collections of objects. Because of this, `np.array` objects MUST have the same datatype (unlike lists).\n",
    "\n",
    "## Basic Numpy Arrays"
   ]
  },
  {
   "cell_type": "code",
   "execution_count": 6,
   "metadata": {},
   "outputs": [
    {
     "name": "stdout",
     "output_type": "stream",
     "text": [
      "[ 7 16  4  3]\n",
      "['2' '7' '3' '5']\n",
      "[ 9. 23.  7.  8.]\n"
     ]
    }
   ],
   "source": [
    "import numpy as np\n",
    "\n",
    "vec1 = np.array([7, 16, 4, 3])\n",
    "vec2 = np.array([2, 7, 3, '5'])\n",
    "print(vec1)\n",
    "print(vec2)\n",
    "print(vec1 + vec2.astype(float))\n",
    "# print(vec1 + vec2)"
   ]
  },
  {
   "cell_type": "markdown",
   "metadata": {},
   "source": [
    "## Arrays from Lists - syntax comparison\n",
    "\n",
    "Converting lists to `np.array` objects is easy!"
   ]
  },
  {
   "cell_type": "code",
   "execution_count": 8,
   "metadata": {},
   "outputs": [
    {
     "name": "stdout",
     "output_type": "stream",
     "text": [
      "[800.  250.5 101.9]\n",
      "<class 'numpy.ndarray'>\n"
     ]
    }
   ],
   "source": [
    "costs = [800.00, 250.50, 101.90]\n",
    "np_costs = np.array(costs)\n",
    "print(np_costs)\n",
    "print(type(np_costs))"
   ]
  },
  {
   "cell_type": "markdown",
   "metadata": {},
   "source": [
    "Maths works as you would expect it to for mathematical vectors."
   ]
  },
  {
   "cell_type": "code",
   "execution_count": 10,
   "metadata": {},
   "outputs": [
    {
     "name": "stdout",
     "output_type": "stream",
     "text": [
      "[3296.    1032.06   419.828]\n",
      "[3800.  3250.5 3101.9]\n",
      "[1600.   501.   203.8]\n",
      "[800.0, 250.5, 101.9, 800.0, 250.5, 101.9]\n"
     ]
    }
   ],
   "source": [
    "usd_costs = np_costs*4.12\n",
    "print(usd_costs)\n",
    "with_fixed_cost = np_costs + 3000.00\n",
    "print(with_fixed_cost)\n",
    "\n",
    "print(np_costs + np_costs)  # Numpy array\n",
    "print(costs + costs)  # Normal list"
   ]
  },
  {
   "cell_type": "markdown",
   "metadata": {},
   "source": [
    "Indexing works similar to that of lists."
   ]
  },
  {
   "cell_type": "code",
   "execution_count": 22,
   "metadata": {},
   "outputs": [
    {
     "name": "stdout",
     "output_type": "stream",
     "text": [
      "[55 77 57 66 51 49 63 87 61 56 77]\n",
      "51\n",
      "[55 77 57 66]\n",
      "[66 51]\n",
      "[61 56 77]\n",
      "[55 57 51 63 61 77]\n"
     ]
    }
   ],
   "source": [
    "import random\n",
    "weights = [random.randrange(48, 96) for value in range(11)] \n",
    "# for value in range() = will have 11 loops\n",
    "# random.ramge = function to generate a random integer \n",
    "weights = np.array(weights)\n",
    "# to convert Python list into a NumPy array\n",
    "print(weights)\n",
    "print(weights[4])\n",
    "print(weights[:4])\n",
    "print(weights[3:-6]) # including index [3] , but not including index [-6]\n",
    "print(weights[8:])\n",
    "print(weights[::2]) # has a step of 2"
   ]
  },
  {
   "cell_type": "markdown",
   "metadata": {},
   "source": [
    "However, you can also use boolean indexing. This means you provide a list/array of boolean values, and those values which are `True` are returned as the result of the slicing."
   ]
  },
  {
   "cell_type": "code",
   "execution_count": 26,
   "metadata": {},
   "outputs": [
    {
     "name": "stdout",
     "output_type": "stream",
     "text": [
      "[False False False False False False False  True False False False]\n",
      "[87]\n",
      "[55 77 57 66 51 49 63 61 56 77]\n",
      "Help on ufunc:\n",
      "\n",
      "invert = <ufunc 'invert'>\n",
      "    invert(x, /, out=None, *, where=True, casting='same_kind', order='K', dtype=None, subok=True[, signature, extobj])\n",
      "    \n",
      "    Compute bit-wise inversion, or bit-wise NOT, element-wise.\n",
      "    \n",
      "    Computes the bit-wise NOT of the underlying binary representation of\n",
      "    the integers in the input arrays. This ufunc implements the C/Python\n",
      "    operator ``~``.\n",
      "    \n",
      "    For signed integer inputs, the two's complement is returned.  In a\n",
      "    two's-complement system negative numbers are represented by the two's\n",
      "    complement of the absolute value. This is the most common method of\n",
      "    representing signed integers on computers [1]_. A N-bit\n",
      "    two's-complement system can represent every integer in the range\n",
      "    :math:`-2^{N-1}` to :math:`+2^{N-1}-1`.\n",
      "    \n",
      "    Parameters\n",
      "    ----------\n",
      "    x : array_like\n",
      "        Only integer and boolean types are handled.\n",
      "    out : ndarray, None, or tuple of ndarray and None, optional\n",
      "        A location into which the result is stored. If provided, it must have\n",
      "        a shape that the inputs broadcast to. If not provided or None,\n",
      "        a freshly-allocated array is returned. A tuple (possible only as a\n",
      "        keyword argument) must have length equal to the number of outputs.\n",
      "    where : array_like, optional\n",
      "        This condition is broadcast over the input. At locations where the\n",
      "        condition is True, the `out` array will be set to the ufunc result.\n",
      "        Elsewhere, the `out` array will retain its original value.\n",
      "        Note that if an uninitialized `out` array is created via the default\n",
      "        ``out=None``, locations within it where the condition is False will\n",
      "        remain uninitialized.\n",
      "    **kwargs\n",
      "        For other keyword-only arguments, see the\n",
      "        :ref:`ufunc docs <ufuncs.kwargs>`.\n",
      "    \n",
      "    Returns\n",
      "    -------\n",
      "    out : ndarray or scalar\n",
      "        Result.\n",
      "        This is a scalar if `x` is a scalar.\n",
      "    \n",
      "    See Also\n",
      "    --------\n",
      "    bitwise_and, bitwise_or, bitwise_xor\n",
      "    logical_not\n",
      "    binary_repr :\n",
      "        Return the binary representation of the input number as a string.\n",
      "    \n",
      "    Notes\n",
      "    -----\n",
      "    `bitwise_not` is an alias for `invert`:\n",
      "    \n",
      "    >>> np.bitwise_not is np.invert\n",
      "    True\n",
      "    \n",
      "    References\n",
      "    ----------\n",
      "    .. [1] Wikipedia, \"Two's complement\",\n",
      "        https://en.wikipedia.org/wiki/Two's_complement\n",
      "    \n",
      "    Examples\n",
      "    --------\n",
      "    We've seen that 13 is represented by ``00001101``.\n",
      "    The invert or bit-wise NOT of 13 is then:\n",
      "    \n",
      "    >>> x = np.invert(np.array(13, dtype=np.uint8))\n",
      "    >>> x\n",
      "    242\n",
      "    >>> np.binary_repr(x, width=8)\n",
      "    '11110010'\n",
      "    \n",
      "    The result depends on the bit-width:\n",
      "    \n",
      "    >>> x = np.invert(np.array(13, dtype=np.uint16))\n",
      "    >>> x\n",
      "    65522\n",
      "    >>> np.binary_repr(x, width=16)\n",
      "    '1111111111110010'\n",
      "    \n",
      "    When using signed integer types the result is the two's complement of\n",
      "    the result for the unsigned type:\n",
      "    \n",
      "    >>> np.invert(np.array([13], dtype=np.int8))\n",
      "    array([-14], dtype=int8)\n",
      "    >>> np.binary_repr(-14, width=8)\n",
      "    '11110010'\n",
      "    \n",
      "    Booleans are accepted as well:\n",
      "    \n",
      "    >>> np.invert(np.array([True, False]))\n",
      "    array([False,  True])\n",
      "    \n",
      "    The ``~`` operator can be used as a shorthand for ``np.invert`` on\n",
      "    ndarrays.\n",
      "    \n",
      "    >>> x1 = np.array([True, False])\n",
      "    >>> ~x1\n",
      "    array([False,  True])\n",
      "\n"
     ]
    }
   ],
   "source": [
    "heavy = weights > 80\n",
    "print(heavy)\n",
    "print(weights[heavy])\n",
    "print(weights[np.invert(heavy)])\n",
    "# Use 'help' to figure out what np.invert does!\n",
    "\n",
    "help(np.invert)\n",
    "# For int: np.invert() = flips all bits if each int element in array\n",
    "# For boolean: np.invert() = flips 'True' into 'False'; 'False' to 'True'"
   ]
  },
  {
   "cell_type": "markdown",
   "metadata": {},
   "source": [
    "## Multi-dimensional Numpy arrays\n",
    "\n",
    "Numpy arrays can have more than 1 dimension (that's why they're nd-arrays, where n can be any number)."
   ]
  },
  {
   "cell_type": "code",
   "execution_count": 28,
   "metadata": {},
   "outputs": [
    {
     "name": "stdout",
     "output_type": "stream",
     "text": [
      "[[159  53]\n",
      " [153  63]\n",
      " [146  83]\n",
      " [142  83]\n",
      " [185  53]\n",
      " [169  72]\n",
      " [179  48]\n",
      " [144  74]\n",
      " [174  56]\n",
      " [159  95]\n",
      " [172  69]]\n",
      "(11, 2)\n"
     ]
    }
   ],
   "source": [
    "weights = [random.randrange(48, 96) for value in range(11)]\n",
    "heights = [random.randrange(140, 190) for value in range(11)]\n",
    "combined = list(zip(heights, weights))\n",
    "combined = np.array(combined)\n",
    "print(combined)\n",
    "print(combined.shape)"
   ]
  },
  {
   "cell_type": "markdown",
   "metadata": {},
   "source": [
    "With multiple dimensions we need multiple indices (plural of index)."
   ]
  },
  {
   "cell_type": "code",
   "execution_count": 40,
   "metadata": {},
   "outputs": [
    {
     "name": "stdout",
     "output_type": "stream",
     "text": [
      "[169  72]\n",
      "\n",
      "\n",
      "[169  72]\n",
      "\n",
      "\n",
      "[[169  72]\n",
      " [179  48]]\n",
      "\n",
      "\n",
      "[169 179]\n",
      "\n",
      "\n",
      "[159 153 146 142 185 169 179 144 174 159 172]\n",
      "\n",
      "\n",
      "[159, 153, 146, 142, 185, 169, 179, 144, 174, 159, 172]\n"
     ]
    }
   ],
   "source": [
    "print(combined[5])\n",
    "print('\\n')\n",
    "print(combined[5,:]) # pring 5th row, all column\n",
    "print('\\n')\n",
    "print(combined[5:7,:])\n",
    "print('\\n')\n",
    "print(combined[5:7,0]) # '0' = In this case, this is the index for column, so only selecting first column\n",
    "print('\\n')\n",
    "print(combined[:,0]) # print all the row, 1st column\n",
    "print('\\n')\n",
    "print(heights)"
   ]
  },
  {
   "cell_type": "markdown",
   "metadata": {},
   "source": [
    "We can also do maths on these multi-dimensional arrays."
   ]
  },
  {
   "cell_type": "code",
   "execution_count": 46,
   "metadata": {},
   "outputs": [
    {
     "name": "stdout",
     "output_type": "stream",
     "text": [
      "[[132.5         44.16666667]\n",
      " [127.5         52.5       ]\n",
      " [121.66666667  69.16666667]\n",
      " [118.33333333  69.16666667]\n",
      " [154.16666667  44.16666667]\n",
      " [140.83333333  60.        ]\n",
      " [149.16666667  40.        ]\n",
      " [120.          61.66666667]\n",
      " [145.          46.66666667]\n",
      " [132.5         79.16666667]\n",
      " [143.33333333  57.5       ]]\n",
      "\n",
      "\n",
      "[[25281  2809]\n",
      " [23409  3969]\n",
      " [21316  6889]\n",
      " [20164  6889]\n",
      " [34225  2809]\n",
      " [28561  5184]\n",
      " [32041  2304]\n",
      " [20736  5476]\n",
      " [30276  3136]\n",
      " [25281  9025]\n",
      " [29584  4761]]\n",
      "\n",
      "\n",
      "[[109   3]\n",
      " [103  13]\n",
      " [ 96  33]\n",
      " [ 92  33]\n",
      " [135   3]\n",
      " [119  22]\n",
      " [129  -2]\n",
      " [ 94  24]\n",
      " [124   6]\n",
      " [109  45]\n",
      " [122  19]]\n"
     ]
    }
   ],
   "source": [
    "print(combined/1.2)\n",
    "print('\\n')\n",
    "print(combined**2)\n",
    "print('\\n')\n",
    "print(combined - 50)"
   ]
  },
  {
   "cell_type": "code",
   "execution_count": 64,
   "metadata": {},
   "outputs": [
    {
     "name": "stdout",
     "output_type": "stream",
     "text": [
      "[[159  53]\n",
      " [153  63]\n",
      " [146  83]\n",
      " [142  83]\n",
      " [185  53]\n",
      " [169  72]\n",
      " [179  48]\n",
      " [144  74]\n",
      " [174  56]\n",
      " [159  95]\n",
      " [172  69]]\n",
      "\n",
      "\n",
      "[[  5.22 116.84]\n",
      " [  5.02 138.89]\n",
      " [  4.79 182.98]\n",
      " [  4.66 182.98]\n",
      " [  6.07 116.84]\n",
      " [  5.54 158.73]\n",
      " [  5.87 105.82]\n",
      " [  4.72 163.14]\n",
      " [  5.71 123.46]\n",
      " [  5.22 209.44]\n",
      " [  5.64 152.12]]\n"
     ]
    }
   ],
   "source": [
    "import numpy as np\n",
    "\n",
    "conversion = [0.0328084, 2.20462262]  # cm->feet, kg->lb\n",
    "print(combined)\n",
    "print('\\n')\n",
    "\n",
    "new_value = combined*conversion\n",
    "round_value = np.around(new_value,2)\n",
    "print (round_value)\n"
   ]
  },
  {
   "cell_type": "markdown",
   "metadata": {},
   "source": [
    "## Basic Stats with Numpy\n",
    "\n",
    "Obviously, one of the more interesting mathematical things to do when you have arrays is calculate some basic stats."
   ]
  },
  {
   "cell_type": "code",
   "execution_count": 66,
   "metadata": {},
   "outputs": [
    {
     "name": "stdout",
     "output_type": "stream",
     "text": [
      "[[159  53]\n",
      " [153  63]\n",
      " [146  83]\n",
      " [142  83]\n",
      " [185  53]\n",
      " [169  72]\n",
      " [179  48]\n",
      " [144  74]\n",
      " [174  56]\n",
      " [159  95]\n",
      " [172  69]]\n",
      "115.04545454545455\n"
     ]
    }
   ],
   "source": [
    "print(combined)\n",
    "print(np.mean(combined))  # Does this make sense?"
   ]
  },
  {
   "cell_type": "markdown",
   "metadata": {},
   "source": [
    "Just like with anything else to do with `nd-array` objects, stats would probably benefit from being more specific..."
   ]
  },
  {
   "cell_type": "code",
   "execution_count": 70,
   "metadata": {},
   "outputs": [
    {
     "name": "stdout",
     "output_type": "stream",
     "text": [
      "[[159  53]\n",
      " [153  63]\n",
      " [146  83]\n",
      " [142  83]\n",
      " [185  53]\n",
      " [169  72]\n",
      " [179  48]\n",
      " [144  74]\n",
      " [174  56]\n",
      " [159  95]\n",
      " [172  69]]\n",
      "\n",
      "\n",
      "162.0\n",
      "\n",
      "\n",
      "68.0909090909091\n",
      "\n",
      "\n",
      "185 159.0 142 14.109957799047773\n",
      "\n",
      "\n",
      "[[ 1.         -0.64407286]\n",
      " [-0.64407286  1.        ]]\n"
     ]
    }
   ],
   "source": [
    "print(combined)\n",
    "print('\\n')\n",
    "print(np.mean(combined[:,0])) # '0' = In this case, this is the index for column, so only selecting first column\n",
    "print('\\n')\n",
    "print(np.mean(combined[:,1])) # '1' = In this case, this is the index for column, so only selecting second column\n",
    "print('\\n')\n",
    "heights = combined[:,0]\n",
    "print(np.max(heights), np.median(heights), np.min(heights), np.std(heights))\n",
    "print('\\n')\n",
    "weights = combined[:,1]\n",
    "print(np.corrcoef(heights, weights))"
   ]
  },
  {
   "cell_type": "markdown",
   "metadata": {},
   "source": [
    "You can even filter out certain values and do your simple stats calculations on the results."
   ]
  },
  {
   "cell_type": "code",
   "execution_count": 72,
   "metadata": {},
   "outputs": [
    {
     "name": "stdout",
     "output_type": "stream",
     "text": [
      "[53 63 83 83 53 72 48 74 56 95 69]\n",
      "[83 83 95]\n",
      "68.0909090909091\n",
      "87.0\n"
     ]
    }
   ],
   "source": [
    "heavy = weights > 80\n",
    "print(weights)\n",
    "print(weights[heavy])\n",
    "print(np.mean(weights))\n",
    "print(np.mean(weights[heavy]))"
   ]
  }
 ],
 "metadata": {
  "kernelspec": {
   "display_name": "Python 3 (ipykernel)",
   "language": "python",
   "name": "python3"
  },
  "language_info": {
   "codemirror_mode": {
    "name": "ipython",
    "version": 3
   },
   "file_extension": ".py",
   "mimetype": "text/x-python",
   "name": "python",
   "nbconvert_exporter": "python",
   "pygments_lexer": "ipython3",
   "version": "3.11.7"
  }
 },
 "nbformat": 4,
 "nbformat_minor": 4
}
