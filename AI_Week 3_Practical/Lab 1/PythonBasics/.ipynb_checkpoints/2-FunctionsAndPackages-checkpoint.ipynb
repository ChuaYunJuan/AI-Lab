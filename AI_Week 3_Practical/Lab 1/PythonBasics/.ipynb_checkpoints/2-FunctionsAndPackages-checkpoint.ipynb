{
 "cells": [
  {
   "cell_type": "markdown",
   "metadata": {},
   "source": [
    "# Functions and Packages\n",
    "\n",
    "## Introduction\n",
    "\n",
    "A clear understanding of functions and packages is essential to any Python user or programmer. Fortunately (as with most things in Python, the plain English words `function` and `package` serve well to describe these concepts.\n",
    "\n",
    "## Functions\n",
    "\n",
    "Functions are used to DO a FUNCTION. Effectively, they provide code re-use as well as encapsulation."
   ]
  },
  {
   "cell_type": "code",
   "execution_count": 2,
   "metadata": {},
   "outputs": [
    {
     "name": "stdout",
     "output_type": "stream",
     "text": [
      "2\n"
     ]
    }
   ],
   "source": [
    "print(min([2, 7, 8]))  # How many functions are there in this cell?\n",
    "\n",
    "# min() = calculate the minimu value from the list"
   ]
  },
  {
   "cell_type": "markdown",
   "metadata": {},
   "source": [
    "## Introspection (or Finding Out) of Functions\n",
    "\n",
    "The doctext for a function (accessible using the `help` function or the ? functionality of ipython) tells us how to use it and what it does.\n",
    "\n",
    "*Note* - there are two ways to call min, one with an 'iterable' (a list, tuple or other sequence) and another with individual inputs (e.g. `min(1, 5, 2)`)\n",
    "\n",
    "*Note* - functions can have additional optional arguments (default and key in this example). A function can be called with OR without these arguments."
   ]
  },
  {
   "cell_type": "code",
   "execution_count": 4,
   "metadata": {},
   "outputs": [
    {
     "name": "stdout",
     "output_type": "stream",
     "text": [
      "Help on built-in function min in module builtins:\n",
      "\n",
      "min(...)\n",
      "    min(iterable, *[, default=obj, key=func]) -> value\n",
      "    min(arg1, arg2, *args, *[, key=func]) -> value\n",
      "    \n",
      "    With a single iterable argument, return its smallest item. The\n",
      "    default keyword-only argument specifies an object to return if\n",
      "    the provided iterable is empty.\n",
      "    With two or more arguments, return the smallest argument.\n",
      "\n"
     ]
    }
   ],
   "source": [
    "help(min)"
   ]
  },
  {
   "cell_type": "markdown",
   "metadata": {},
   "source": [
    "Of course, the output of a function can be assigned to a variable."
   ]
  },
  {
   "cell_type": "code",
   "execution_count": 6,
   "metadata": {},
   "outputs": [
    {
     "name": "stdout",
     "output_type": "stream",
     "text": [
      "0\n"
     ]
    }
   ],
   "source": [
    "numbers = [8, 2, 5, 7, 0, 1]\n",
    "min_number = min(numbers)\n",
    "print(min_number)"
   ]
  },
  {
   "cell_type": "markdown",
   "metadata": {},
   "source": [
    "## Built-in Functions\n",
    "\n",
    "Python comes with a bunch of 'built-in' functions. How do we know what's available? Try searching for it on your favourite search engine (Hint: 'python built-in functions'). Now try to figure out which of the built-in functions is useful for rounding a number to the nearest 10 (i.e 14 would become 10, 18 would become 20). Use the `help` function to figure out how to use that function."
   ]
  },
  {
   "cell_type": "code",
   "execution_count": 12,
   "metadata": {},
   "outputs": [
    {
     "name": "stdout",
     "output_type": "stream",
     "text": [
      "Help on built-in function round in module builtins:\n",
      "\n",
      "round(number, ndigits=None)\n",
      "    Round a number to a given precision in decimal digits.\n",
      "    \n",
      "    The return value is an integer if ndigits is omitted or None.  Otherwise\n",
      "    the return value has the same type as the number.  ndigits may be negative.\n",
      "\n",
      "10\n",
      "100\n",
      "\n",
      "\n",
      "140\n",
      "100\n",
      "1000\n",
      "142\n",
      "140\n",
      "140.35\n"
     ]
    }
   ],
   "source": [
    "# Empty cell to be filled in by student\n",
    "\n",
    "help(round)\n",
    "\n",
    "num = 14 \n",
    "rounded_num = round(num, -1) # '-1' = rounding to the nearest multiple of 10\n",
    "print(rounded_num)\n",
    "# In round (), the 2nd argument specifies the number of decimal places to be rounded if it it's Positive \n",
    "# If it's Negative, it indicates the number of zeros (10, 100, 1000)\n",
    "\n",
    "num = 60\n",
    "rounded_num = round(num, -2) # '-2' = rounding to the nearest multiple of 100\n",
    "print(rounded_num)\n",
    "print(\"\\n\")\n",
    "# how to round 147 to 140 (round to nearest 10)\n",
    "print(round(142,-1))  #  1st argument is the number to be rounded\n",
    "# how to round 140 to 100 (round to nearest 100)\n",
    "print(round(140,-2))\n",
    "# how to round 1420 to 1000 (round to nearest 1000)\n",
    "print(round(1420,-3))\n",
    "# how to round 140.3 to 140 (round to int) \n",
    "print(round(142))\n",
    "print(round(140.3))\n",
    "# how to round 140.3456 to 140.15 (round to specific number of decimal places)\n",
    "print(round(140.3456,2))"
   ]
  },
  {
   "cell_type": "markdown",
   "metadata": {},
   "source": [
    "## Methods (attached functions)\n",
    "\n",
    "Methods are functions which are attached to classes/objects. Let's take a look at the methods available for our list class."
   ]
  },
  {
   "cell_type": "code",
   "execution_count": 22,
   "metadata": {},
   "outputs": [
    {
     "data": {
      "text/plain": [
       "['append',\n",
       " 'clear',\n",
       " 'copy',\n",
       " 'count',\n",
       " 'extend',\n",
       " 'index',\n",
       " 'insert',\n",
       " 'pop',\n",
       " 'remove',\n",
       " 'reverse',\n",
       " 'sort']"
      ]
     },
     "execution_count": 22,
     "metadata": {},
     "output_type": "execute_result"
    }
   ],
   "source": [
    "l = [5, 2, 3, 8]\n",
    "# This line is fun (and complex), feel free to play around with it.\n",
    "# Some keywords for you to google, 'list comprehension', 'attributes', 'startswith'\n",
    "\n",
    "#'list comprehension' = a concise way to create list in Python\n",
    "# Syntax: [expression for item in iterable if condition]\n",
    "\n",
    "[m for m in dir(l) if callable(getattr(l, m)) and not m.startswith(\"__\")]\n",
    "# 'm' = a item that representing each method name ('m') in the list of 'dir(l)'\n",
    "# 'callable(getattr(l, m))' = to check if list 'l' has a callable attribute/method named m\n",
    "# ' not m.startswith(\"__\")' = to filter out attributes/methods that start with __ \n",
    "\n",
    "# 'attribute' = variables that are part of an object's state\n",
    "# Syntax: [object.attribute]\n",
    "\n",
    "# 'startswith(\" \")' = a string method in Python that checks whether a string starts with a specified  prefix\n",
    "# It returns True if the string starts with the specified prefix, otherwise False."
   ]
  },
  {
   "cell_type": "markdown",
   "metadata": {},
   "source": [
    "You've actually already learnt about most of these methods, so let's have a quick test:-\n",
    "\n",
    "1. Create a new list l2 with 3 numbers in it. Add the whole list to l.\n",
    "2. Insert the number -3 into the 2nd position in list l.\n",
    "3. Sort the values of l in descending order."
   ]
  },
  {
   "cell_type": "code",
   "execution_count": 46,
   "metadata": {},
   "outputs": [
    {
     "name": "stdout",
     "output_type": "stream",
     "text": [
      "New List 1 is [2, 4, 6, 11, 22, 44]\n",
      "New List 1 of adding '-3' is [2, -3, 4, 6, 11, 22, 44]\n",
      "New List 1 in descending order is [44, 22, 11, 6, 4, 2, -3]\n",
      "\n",
      " [-3, 2, 4, 6, 11, 22, 44]\n",
      "[44, 22, 11, 6, 4, 2, -3]\n",
      "\n",
      " 22\n",
      "\n",
      " [44, 11, 6, 4, 2, -3]\n",
      "\n",
      " [44, 11, 6, 4, 2, -3]\n",
      "\n",
      " None\n",
      "\n",
      "The number of 2 in list is 1\n",
      "\n",
      "The index of number 6 is 2\n"
     ]
    }
   ],
   "source": [
    "# Empty cell to be filled in by student\n",
    "\n",
    "list_1 = [2,4,6]\n",
    "list_2 = [11,22,44]\n",
    "\n",
    "# To add list 2 into list 1\n",
    "list_1.extend(list_2)\n",
    "print(f\"New List 1 is {list_1}\")\n",
    "\n",
    "# To insert a number into list\n",
    "list_1.insert(1, -3)\n",
    "print(f\"New List 1 of adding '-3' is {list_1}\")\n",
    "\n",
    "# Sort list in descending order\n",
    "list_1.sort(reverse = True)\n",
    "print(f\"New List 1 in descending order is {list_1}\")\n",
    "\n",
    "# Method 2 of reverse \n",
    "list_1.sort()\n",
    "print(\"\\n\",list_1)\n",
    "list_1.reverse()\n",
    "print(list_1)\n",
    "\n",
    "# .pop() = remove and returns the specified element in the list\n",
    "popped_element = list_1.pop(1)\n",
    "print(\"\\n\", popped_element)\n",
    "print (\"\\n\", list_1)\n",
    "\n",
    "# .copy()\n",
    "list_3 = list_1.copy()\n",
    "print (\"\\n\", list_3)\n",
    "\n",
    "# .clear() = clear the list\n",
    "list_3 = list_3.clear()\n",
    "print (\"\\n\",list_3)\n",
    "\n",
    "# .count () = count number of element appear\n",
    "number_of_2 = list_1.count(2)\n",
    "print (f\"\\nThe number of 2 in list is {number_of_2}\")\n",
    "\n",
    "# .index () = give the index value of specific value in list\n",
    "position = list_1.index(6)\n",
    "print(f\"\\nThe index of number 6 is {position}\")"
   ]
  },
  {
   "cell_type": "markdown",
   "metadata": {},
   "source": [
    "## Packages\n",
    "\n",
    "The REAL power of python is the availability of vast numbers of packages for many uses. To get access to these, you'll need to know how to `import`. Here's a few ways."
   ]
  },
  {
   "cell_type": "code",
   "execution_count": 30,
   "metadata": {},
   "outputs": [
    {
     "name": "stdout",
     "output_type": "stream",
     "text": [
      "3.0\n",
      "4.0\n",
      "5.0\n",
      "6.0\n"
     ]
    }
   ],
   "source": [
    "import math  # Generally, just use this\n",
    "import math as m  # Use this when you're using the package a lot and don't want lines to be too long (e.g. numpy)\n",
    "from math import sqrt  # Use this if you only want ONE function from the math package (if it has a unique name)\n",
    "from math import sqrt as square_root\n",
    "\n",
    "print(math.sqrt(9))\n",
    "print(m.sqrt(16))\n",
    "print(sqrt(25))\n",
    "print(square_root(36))"
   ]
  },
  {
   "cell_type": "markdown",
   "metadata": {},
   "source": [
    "Which of the below is preferable (for readability)?"
   ]
  },
  {
   "cell_type": "code",
   "execution_count": 32,
   "metadata": {},
   "outputs": [
    {
     "name": "stdout",
     "output_type": "stream",
     "text": [
      "The circumference is 94.24777960769379.\n"
     ]
    }
   ],
   "source": [
    "from math import pi\n",
    "r = 15\n",
    "circumference = 2 * math.pi * r\n",
    "circumference = 2 * m.pi * r\n",
    "circumference = 2 * pi * r\n",
    "print(\"The circumference is {}.\".format(circumference))"
   ]
  },
  {
   "cell_type": "markdown",
   "metadata": {},
   "source": [
    "## What Package?\n",
    "\n",
    "How to find a package? Search for a python package to generate a normally distributed random number, and create a list of one hundred such random numbers."
   ]
  },
  {
   "cell_type": "code",
   "execution_count": 48,
   "metadata": {},
   "outputs": [
    {
     "name": "stdout",
     "output_type": "stream",
     "text": [
      "First 10 random numbers: [-0.37821995 -2.21001986  0.04225518  0.78802106  0.07989245  0.59433525\n",
      " -0.36263442 -0.57152404  0.71448628  0.12351166]\n",
      "\n",
      "First 10 random numbers as a list: [-0.3782199484284575, -2.2100198576807957, 0.042255180855716695, 0.7880210626776457, 0.07989245205793966, 0.5943352521768371, -0.3626344237115558, -0.571524041639764, 0.7144862789865788, 0.12351165641482041]\n"
     ]
    }
   ],
   "source": [
    "# Empty cell to be filled in by student\n",
    "import numpy as np\n",
    "\n",
    "# Generate 100 normally distributed random numbers\n",
    "random_numbers = np.random.normal(loc=0, scale=1, size=100)\n",
    "# 'loc' = mean value\n",
    "# 'scale' = standard distribution value\n",
    "\n",
    "# Print the first 10 numbers for demonstration\n",
    "print(\"First 10 random numbers:\", random_numbers[:10])\n",
    "\n",
    "# To convert the NumPy array to a list, so use the tolist() method\n",
    "random_numbers_list = random_numbers.tolist()\n",
    "\n",
    "# Print the first 10 numbers as a list\n",
    "print(\"\\nFirst 10 random numbers as a list:\", random_numbers_list[:10])"
   ]
  },
  {
   "cell_type": "markdown",
   "metadata": {},
   "source": [
    "Now, you want to run the following successfully. The mathematical function you want to use is called `inv()` and it is in the `linalg` subpackage of the `scipy` package. What import command should you use?"
   ]
  },
  {
   "cell_type": "code",
   "execution_count": 62,
   "metadata": {},
   "outputs": [
    {
     "data": {
      "text/plain": [
       "array([[-2. ,  1. ],\n",
       "       [ 1.5, -0.5]])"
      ]
     },
     "execution_count": 62,
     "metadata": {},
     "output_type": "execute_result"
    }
   ],
   "source": [
    "# Type an import command below this line\n",
    "from scipy.linalg import inv \n",
    "import numpy as np\n",
    "\n",
    "def my_inv (matrix):\n",
    "    matrix = np.array (matrix, dtype=float)\n",
    "    return inv(matrix)\n",
    "    \n",
    "# Do not change the cell below this line\n",
    "# The expected answer is [[-2, 1], [1.5, -0.5]]\n",
    "my_inv([[1, 2], [3, 4]])"
   ]
  }
 ],
 "metadata": {
  "kernelspec": {
   "display_name": "Python 3 (ipykernel)",
   "language": "python",
   "name": "python3"
  },
  "language_info": {
   "codemirror_mode": {
    "name": "ipython",
    "version": 3
   },
   "file_extension": ".py",
   "mimetype": "text/x-python",
   "name": "python",
   "nbconvert_exporter": "python",
   "pygments_lexer": "ipython3",
   "version": "3.11.7"
  }
 },
 "nbformat": 4,
 "nbformat_minor": 4
}
