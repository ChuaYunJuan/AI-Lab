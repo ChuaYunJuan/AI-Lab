{
 "cells": [
  {
   "cell_type": "markdown",
   "metadata": {},
   "source": [
    "# Variables and Types\n",
    "\n",
    "## Introduction\n",
    "\n",
    "All programming languages have the concept of variables and datatypes, Python is no different\n",
    "\n",
    "## Variables\n",
    "\n",
    "Variables can have any name (using letters, numbers, and underscore)."
   ]
  },
  {
   "cell_type": "code",
   "execution_count": 5,
   "metadata": {},
   "outputs": [
    {
     "name": "stdout",
     "output_type": "stream",
     "text": [
      "100\n"
     ]
    }
   ],
   "source": [
    "value = 100\n",
    "print(value)"
   ]
  },
  {
   "cell_type": "markdown",
   "metadata": {},
   "source": [
    "Well.... almost! Let's take a look at the variable name below.\n",
    "\n",
    "*Note* - Do take careful note of how you should read Python error messages (bottom to top)"
   ]
  },
  {
   "cell_type": "code",
   "execution_count": 9,
   "metadata": {},
   "outputs": [
    {
     "name": "stdout",
     "output_type": "stream",
     "text": [
      "Congress shall make no law respecting an establishment of religion, or prohibiting the free exercise thereof; or abridging the freedom of speech, or of the press; or the right of the people peaceably to assemble, and to petition the Government for a redress of grievances.\n"
     ]
    }
   ],
   "source": [
    "New_1stAmendment = \"Congress shall make no law respecting an establishment of religion, or prohibiting the free exercise thereof; or abridging the freedom of speech, or of the press; or the right of the people peaceably to assemble, and to petition the Government for a redress of grievances.\"\n",
    "print(New_1stAmendment)"
   ]
  },
  {
   "cell_type": "code",
   "execution_count": 11,
   "metadata": {},
   "outputs": [
    {
     "name": "stdout",
     "output_type": "stream",
     "text": [
      "50000.0\n"
     ]
    }
   ],
   "source": [
    "safety_factor = 2.5\n",
    "shear_strength = 8000\n",
    "design_minimum = shear_strength*(safety_factor**2)\n",
    "print(design_minimum)"
   ]
  },
  {
   "cell_type": "markdown",
   "metadata": {},
   "source": [
    "## Variable Type\n",
    "\n",
    "The type of a variable's data can be found using the `type` function. Let's look at the help for this function."
   ]
  },
  {
   "cell_type": "code",
   "execution_count": null,
   "metadata": {},
   "outputs": [],
   "source": [
    "help(type)"
   ]
  },
  {
   "cell_type": "code",
   "execution_count": 4,
   "metadata": {},
   "outputs": [
    {
     "name": "stdout",
     "output_type": "stream",
     "text": [
      "22222\n",
      "5\n",
      "2\n",
      "1.25\n"
     ]
    }
   ],
   "source": [
    "a = 5\n",
    "b = '2'\n",
    "c = True\n",
    "ab = a*b\n",
    "ac = a*c\n",
    "bc = b*c\n",
    "a_divided = a/4\n",
    "\n",
    "print(ab)\n",
    "print(ac)\n",
    "print(bc)\n",
    "print(a_divided)"
   ]
  },
  {
   "cell_type": "code",
   "execution_count": 17,
   "metadata": {},
   "outputs": [
    {
     "name": "stdout",
     "output_type": "stream",
     "text": [
      "<class 'str'>\n",
      "<class 'int'>\n",
      "<class 'str'>\n",
      "<class 'float'>\n"
     ]
    }
   ],
   "source": [
    "print(type(ab))\n",
    "print(type(ac))\n",
    "print(type(bc))\n",
    "print(type(a_divided))"
   ]
  },
  {
   "cell_type": "markdown",
   "metadata": {},
   "source": [
    "Certain types of operands can't work on certain combinations of types."
   ]
  },
  {
   "cell_type": "code",
   "execution_count": 8,
   "metadata": {},
   "outputs": [
    {
     "name": "stdout",
     "output_type": "stream",
     "text": [
      "22222\n",
      "52\n",
      "7\n"
     ]
    }
   ],
   "source": [
    "print(ab)\n",
    "print(str(a)+b)\n",
    "print(a+int(b))"
   ]
  },
  {
   "cell_type": "markdown",
   "metadata": {},
   "source": [
    "When printing, it's normally best to use strings (well, obviously). Adding strings together is one simple method of controlling your print output."
   ]
  },
  {
   "cell_type": "code",
   "execution_count": 31,
   "metadata": {},
   "outputs": [
    {
     "name": "stdout",
     "output_type": "stream",
     "text": [
      "The value of pi that I can remember is \"3.141592653589793\"\n"
     ]
    }
   ],
   "source": [
    "calculation_result = 3.141592653589793238462643383279\n",
    "\n",
    "# Note that to print the double inverted commas, we define the string\n",
    "# using single inverted commas (vice versa also works)\n",
    "print(\"The value of pi that I can remember is \" + '\"' + str(calculation_result) + '\"')\n",
    "\n",
    "# we can use single quotation marks ('') to print double quotation marks (\" \") "
   ]
  },
  {
   "cell_type": "markdown",
   "metadata": {},
   "source": [
    "Another (perhaps more intuitive) way to format strings is the 'format' method for the string class."
   ]
  },
  {
   "cell_type": "code",
   "execution_count": null,
   "metadata": {},
   "outputs": [],
   "source": [
    "help(str.format) \n",
    "# 'format' = a method to format string by replacing placeholders ({}) with specify value"
   ]
  },
  {
   "cell_type": "code",
   "execution_count": 14,
   "metadata": {},
   "outputs": [
    {
     "name": "stdout",
     "output_type": "stream",
     "text": [
      "Hello World! My name is Chua Yun Juan\n",
      "My friend's name is Xin Yi. I am called Chua Yun Juan and I am 21 years old.\n"
     ]
    }
   ],
   "source": [
    "my_str = \"some value\"\n",
    "my_str.format  # This works like `help` but in a popup window\n",
    "# Get access the help documentation for the 'format' method\n",
    "\n",
    "# Method 2:\n",
    "str_2 = \"Hello {}! My name is {}\"\n",
    "formatted_string_2 = str_2.format(\"World\",\"Chua Yun Juan\")\n",
    "print (formatted_string_2)\n",
    "\n",
    "# Method 3:\n",
    "str_3 = \"My friend's name is {}. I am called {name} and I am {age} years old.\"\n",
    "formatted_string_3 = str_3.format(\"Xin Yi\",name = \"Chua Yun Juan\", age = \"21\")\n",
    "print (formatted_string_3)"
   ]
  },
  {
   "cell_type": "code",
   "execution_count": 33,
   "metadata": {},
   "outputs": [
    {
     "name": "stdout",
     "output_type": "stream",
     "text": [
      "The value of pi that I can remember is \"3.141592653589793\"\n"
     ]
    }
   ],
   "source": [
    "print('The value of pi that I can remember is \"{}\"'.format(calculation_result))"
   ]
  },
  {
   "cell_type": "markdown",
   "metadata": {},
   "source": [
    "## Lists\n",
    "\n",
    "Lists are fundamental to python, and can contain ANY datatype (including objects, even other lists!). Some operands even work on lists!"
   ]
  },
  {
   "cell_type": "code",
   "execution_count": 22,
   "metadata": {},
   "outputs": [
    {
     "name": "stdout",
     "output_type": "stream",
     "text": [
      "[1, 6, 2, 3, 5, 6, 3, 2]\n",
      "[[1, 2, 3], [4, 5], [6, 7, 8]]\n",
      "[15, 'a cat', True]\n",
      "['Ng Oon-Ee', 18, True]\n",
      "['Ng Oon-Ee', 18, True, 'Ng Oon-Ee', 18, True, 'Ng Oon-Ee', 18, True, 'Ng Oon-Ee', 18, True]\n",
      "\n",
      "\n",
      "apple\n",
      "banana\n",
      "orange\n",
      "watermelon\n"
     ]
    }
   ],
   "source": [
    "list_of_numbers = [1, 6, 2, 3, 5, 6, 3, 2]\n",
    "list1, list2, list3 = [1, 2, 3], [4, 5], [6, 7, 8]\n",
    "list_of_lists = [list1, list2, list3]\n",
    "list_with_calculations = [3*5, \"a\"+ \" cat\", True or FALSE]\n",
    "name = 'Ng Oon-Ee'\n",
    "age = 18\n",
    "employed = True\n",
    "list_from_variables = [name, age, employed]\n",
    "list_multiplication = list_from_variables*4\n",
    "list_of_fruits = [\"apple\", \"banana\", \"orange\", \"watermelon\"]\n",
    "\n",
    "print(list_of_numbers)\n",
    "print(list_of_lists)\n",
    "print(list_with_calculations)\n",
    "print(list_from_variables)\n",
    "print(list_multiplication)\n",
    "print(\"\\n\")\n",
    "for element in list_of_fruits:\n",
    "    print(element)"
   ]
  },
  {
   "cell_type": "code",
   "execution_count": 43,
   "metadata": {},
   "outputs": [
    {
     "name": "stdout",
     "output_type": "stream",
     "text": [
      "[[1, 2, 3], [4, 5], [6, 7, 8]]\n",
      "['Ng Oon-Ee', 18, True]\n",
      "['Ng Oon-Ee', 18, True, 'Ng Oon-Ee', 18, True, 'Ng Oon-Ee', 18, True, 'Ng Oon-Ee', 18, True]\n"
     ]
    }
   ],
   "source": [
    "list1 = ['one', 'two', 3]\n",
    "age = 25\n",
    "print(list_of_lists)\n",
    "print(list_from_variables)\n",
    "print(list_multiplication)"
   ]
  }
 ],
 "metadata": {
  "kernelspec": {
   "display_name": "Python 3 (ipykernel)",
   "language": "python",
   "name": "python3"
  },
  "language_info": {
   "codemirror_mode": {
    "name": "ipython",
    "version": 3
   },
   "file_extension": ".py",
   "mimetype": "text/x-python",
   "name": "python",
   "nbconvert_exporter": "python",
   "pygments_lexer": "ipython3",
   "version": "3.11.7"
  }
 },
 "nbformat": 4,
 "nbformat_minor": 4
}
