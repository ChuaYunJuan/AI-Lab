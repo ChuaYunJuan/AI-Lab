{
  "cells": [
    {
      "cell_type": "markdown",
      "metadata": {
        "id": "J1o5mcdClUfg"
      },
      "source": [
        "# Functions and Packages\n",
        "\n",
        "## Introduction\n",
        "\n",
        "A clear understanding of functions and packages is essential to any Python user or programmer. Fortunately (as with most things in Python, the plain English words `function` and `package` serve well to describe these concepts.\n",
        "\n",
        "## Functions\n",
        "\n",
        "Functions are used to DO a FUNCTION. Effectively, they provide code re-use as well as encapsulation."
      ]
    },
    {
      "cell_type": "code",
      "source": [
        "a=[2, 7, 8]\n",
        "print(min(a))"
      ],
      "metadata": {
        "colab": {
          "base_uri": "https://localhost:8080/"
        },
        "id": "U0DFFAQGHmnY",
        "outputId": "6653c5e5-3d55-4439-ed9f-1794e3b5e7ad"
      },
      "execution_count": null,
      "outputs": [
        {
          "output_type": "stream",
          "name": "stdout",
          "text": [
            "2\n"
          ]
        }
      ]
    },
    {
      "cell_type": "code",
      "execution_count": null,
      "metadata": {
        "colab": {
          "base_uri": "https://localhost:8080/"
        },
        "id": "E-gIi1y2lUfk",
        "outputId": "43502d55-776b-4f95-d9d4-55a8728a3448"
      },
      "outputs": [
        {
          "output_type": "stream",
          "name": "stdout",
          "text": [
            "2\n"
          ]
        }
      ],
      "source": [
        "print(min([2, 7, 8]))  # How many functions are there in this cell?"
      ]
    },
    {
      "cell_type": "markdown",
      "metadata": {
        "id": "RUej97gllUfm"
      },
      "source": [
        "## Introspection (or Finding Out) of Functions\n",
        "\n",
        "The doctext for a function (accessible using the `help` function or the ? functionality of ipython) tells us how to use it and what it does.\n",
        "\n",
        "*Note* - there are two ways to call min, one with an 'iterable' (a list, tuple or other sequence) and another with individual inputs (e.g. `min(1, 5, 2)`)\n",
        "\n",
        "*Note* - functions can have additional optional arguments (default and key in this example). A function can be called with OR without these arguments."
      ]
    },
    {
      "cell_type": "code",
      "execution_count": null,
      "metadata": {
        "colab": {
          "base_uri": "https://localhost:8080/"
        },
        "id": "VH9GFggclUfm",
        "outputId": "5cae348d-b2c1-4fab-eaaa-b7666ac17767"
      },
      "outputs": [
        {
          "output_type": "stream",
          "name": "stdout",
          "text": [
            "Help on built-in function min in module builtins:\n",
            "\n",
            "min(...)\n",
            "    min(iterable, *[, default=obj, key=func]) -> value\n",
            "    min(arg1, arg2, *args, *[, key=func]) -> value\n",
            "    \n",
            "    With a single iterable argument, return its smallest item. The\n",
            "    default keyword-only argument specifies an object to return if\n",
            "    the provided iterable is empty.\n",
            "    With two or more arguments, return the smallest argument.\n",
            "\n"
          ]
        }
      ],
      "source": [
        "help(min)"
      ]
    },
    {
      "cell_type": "markdown",
      "metadata": {
        "id": "5FIMOxQilUfm"
      },
      "source": [
        "Of course, the output of a function can be assigned to a variable."
      ]
    },
    {
      "cell_type": "code",
      "execution_count": null,
      "metadata": {
        "colab": {
          "base_uri": "https://localhost:8080/"
        },
        "id": "cdEsNxc2lUfn",
        "outputId": "a76ea42e-47c8-499b-9f44-d6a0dada6349"
      },
      "outputs": [
        {
          "output_type": "stream",
          "name": "stdout",
          "text": [
            "0\n"
          ]
        }
      ],
      "source": [
        "numbers = [8, 2, 5, 7, 0, 1]\n",
        "min_number = min(numbers)\n",
        "print(min_number)"
      ]
    },
    {
      "cell_type": "markdown",
      "metadata": {
        "id": "-_wrLTV9lUfn"
      },
      "source": [
        "## Built-in Functions\n",
        "\n",
        "Python comes with a bunch of 'built-in' functions. How do we know what's available? Try searching for it on your favourite search engine (Hint: 'python built-in functions'). Now try to figure out which of the built-in functions is useful for rounding a number to the nearest 10 (i.e 14 would become 10, 18 would become 20). Use the `help` function to figure out how to use that function."
      ]
    },
    {
      "cell_type": "code",
      "execution_count": null,
      "metadata": {
        "colab": {
          "base_uri": "https://localhost:8080/"
        },
        "id": "cN0_MK8QlUfo",
        "outputId": "032080bf-3f46-4829-f71a-e1f49a6c4d63"
      },
      "outputs": [
        {
          "output_type": "stream",
          "name": "stdout",
          "text": [
            "Help on built-in function round in module builtins:\n",
            "\n",
            "round(number, ndigits=None)\n",
            "    Round a number to a given precision in decimal digits.\n",
            "    \n",
            "    The return value is an integer if ndigits is omitted or None.  Otherwise\n",
            "    the return value has the same type as the number.  ndigits may be negative.\n",
            "\n",
            "100\n",
            "20\n",
            "140\n",
            "1000\n",
            "142.35\n",
            "Help on built-in function round in module builtins:\n",
            "\n",
            "round(number, ndigits=None)\n",
            "    Round a number to a given precision in decimal digits.\n",
            "    \n",
            "    The return value is an integer if ndigits is omitted or None.  Otherwise\n",
            "    the return value has the same type as the number.  ndigits may be negative.\n",
            "\n"
          ]
        }
      ],
      "source": [
        "# Empty cell to be filled in by student\n",
        "\n",
        "\n",
        "help(round)\n",
        "# Rounding to the nearest 10\n",
        "print(round(142, -2))  # Output: 100\n",
        "print(round(18, -1))  # Output: 20\n",
        "#By specifying -1 as the second argument, you instruct Python to round the number to the nearest multiple of 10. This leverages the round() function effectively for your needs.\n",
        "\n",
        "#how to round 142 to 140\n",
        "print(round(142, -1))  # Output: 140\n",
        "print(round(1422,-3)) #output: 1000\n",
        "\n",
        "print(round(142.3456,2)) #output: 1000\n",
        "\n",
        "help(round)"
      ]
    },
    {
      "cell_type": "markdown",
      "metadata": {
        "id": "x5jZiofslUfo"
      },
      "source": [
        "## Methods (attached functions)\n",
        "\n",
        "Methods are functions which are attached to classes/objects. Let's take a look at the methods available for our list class."
      ]
    },
    {
      "cell_type": "code",
      "execution_count": null,
      "metadata": {
        "id": "UyCzB9molUfo",
        "colab": {
          "base_uri": "https://localhost:8080/"
        },
        "outputId": "6340ce6c-17fe-481c-cb34-211d2e743cb0"
      },
      "outputs": [
        {
          "output_type": "execute_result",
          "data": {
            "text/plain": [
              "['append',\n",
              " 'clear',\n",
              " 'copy',\n",
              " 'count',\n",
              " 'extend',\n",
              " 'index',\n",
              " 'insert',\n",
              " 'pop',\n",
              " 'remove',\n",
              " 'reverse',\n",
              " 'sort']"
            ]
          },
          "metadata": {},
          "execution_count": 17
        }
      ],
      "source": [
        "l = [5, 2, 3, 8]\n",
        "# This line is fun (and complex), feel free to play around with it.\n",
        "# Some keywords for you to google, 'list comprehension', 'attributes', 'startswith'\n",
        "[m for m in dir(l) if callable(getattr(l, m)) and not m.startswith(\"__\")]\n",
        "\n",
        "# Iterates over all attributes and methods of l (for m in dir(l)).\n",
        "# Checks if each attribute m is callable (if callable(getattr(l, m))).Ensures only methods (functions) are considered, not other attributes.\n",
        "# Checks if m does not start with double underscores (and not m.startswith(\"__\")).Ensures only regular methods are included."
      ]
    },
    {
      "cell_type": "markdown",
      "metadata": {
        "id": "jiKDxi_5lUfp"
      },
      "source": [
        "You've actually already learnt about most of these methods, so let's have a quick test:-\n",
        "\n",
        "1. Create a new list l2 with 3 numbers in it. Add the whole list to l.\n",
        "2. Insert the number -3 into the 2nd position in list l.\n",
        "3. Sort the values of l in descending order."
      ]
    },
    {
      "cell_type": "code",
      "execution_count": null,
      "metadata": {
        "id": "QTC-NggalUfp",
        "colab": {
          "base_uri": "https://localhost:8080/"
        },
        "outputId": "629ab682-ebfb-4251-a4ed-35e16223290a"
      },
      "outputs": [
        {
          "output_type": "stream",
          "name": "stdout",
          "text": [
            "After extending l with l2: [5, 2, 3, 8, 1, 4, 7]\n",
            "After sorting in descending order: [8, 7, 5, 4, 3, 2, 1]\n"
          ]
        }
      ],
      "source": [
        "# Empty cell to be filled in by student\n",
        "\n",
        "#Create a new list l2 with 3 numbers in it. Add the whole list to l.\n",
        "l2 = [1, 4, 7]\n",
        "#Insert the number -3 into the 2nd position in list l.\n",
        "l = [5, 2, 3, 8]\n",
        "l.extend(l2)\n",
        "print(\"After extending l with l2:\", l)\n",
        "# Output: [5, 2, 3, 8, 1, 4, 7]\n",
        "#Sort the values of l in descending order:\n",
        "l.sort(reverse=True)\n",
        "print(\"After sorting in descending order:\", l)\n",
        "# Output: [8, 7, 5, 4, 3, 2, 1, -3]"
      ]
    },
    {
      "cell_type": "markdown",
      "source": [
        "List Methods in Python\n",
        "Here are some commonly used methods available for list objects, along with examples:\n",
        "\n",
        "1. append()\n",
        "Adds an element to the end of the list."
      ],
      "metadata": {
        "id": "SofjFpQBsypY"
      }
    },
    {
      "cell_type": "code",
      "source": [
        "my_list = [1, 2, 3]\n",
        "my_list.append(4)\n",
        "print(my_list)  # Output: [1, 2, 3, 4]"
      ],
      "metadata": {
        "colab": {
          "base_uri": "https://localhost:8080/"
        },
        "id": "YbRvmE6qs1gF",
        "outputId": "8ebf81c5-edd9-4e71-8f5a-c03d5cf2bc4e"
      },
      "execution_count": null,
      "outputs": [
        {
          "output_type": "stream",
          "name": "stdout",
          "text": [
            "[1, 2, 3, 4]\n"
          ]
        }
      ]
    },
    {
      "cell_type": "markdown",
      "source": [
        "2. extend()\n",
        "Extends the list by appending elements from an iterable (like another list)."
      ],
      "metadata": {
        "id": "jYYR2YYus3b9"
      }
    },
    {
      "cell_type": "code",
      "source": [
        "my_list = [1, 2, 3]\n",
        "my_list.extend([4, 5])\n",
        "print(my_list)  # Output: [1, 2, 3, 4, 5]"
      ],
      "metadata": {
        "id": "CaUOEWG9s51V"
      },
      "execution_count": null,
      "outputs": []
    },
    {
      "cell_type": "markdown",
      "source": [
        "3. insert()\n",
        "Inserts an element at a specified position."
      ],
      "metadata": {
        "id": "ebyPSelhs7C8"
      }
    },
    {
      "cell_type": "code",
      "source": [
        "my_list = [1, 2, 3]\n",
        "my_list.insert(1, 'a')  # Insert 'a' at index 1\n",
        "print(my_list)  # Output: [1, 'a', 2, 3]"
      ],
      "metadata": {
        "colab": {
          "base_uri": "https://localhost:8080/"
        },
        "id": "Dd9KSDWcs8gs",
        "outputId": "682a3005-5366-4545-c202-85e86e4b4321"
      },
      "execution_count": null,
      "outputs": [
        {
          "output_type": "stream",
          "name": "stdout",
          "text": [
            "[1, 'a', 2, 3]\n"
          ]
        }
      ]
    },
    {
      "cell_type": "markdown",
      "source": [
        "4. remove()\n",
        "Removes the first occurrence of a specified value."
      ],
      "metadata": {
        "id": "SmF4knW4s5eN"
      }
    },
    {
      "cell_type": "code",
      "source": [
        "my_list = [1, 2, 3, 2, 4]\n",
        "my_list.remove(2)\n",
        "print(my_list)  # Output: [1, 3, 2, 4]"
      ],
      "metadata": {
        "colab": {
          "base_uri": "https://localhost:8080/"
        },
        "id": "x0Jwx7cGtBsl",
        "outputId": "0a56a17a-2b0d-496c-d134-3f4001bfc642"
      },
      "execution_count": null,
      "outputs": [
        {
          "output_type": "stream",
          "name": "stdout",
          "text": [
            "[1, 3, 2, 4]\n"
          ]
        }
      ]
    },
    {
      "cell_type": "markdown",
      "source": [
        "5. pop()\n",
        "Removes and returns the element at a specified position (default is the last element)."
      ],
      "metadata": {
        "id": "EpvSHwjptHMg"
      }
    },
    {
      "cell_type": "code",
      "source": [
        "my_list = [1, 2, 3]\n",
        "popped_element = my_list.pop(-2)\n",
        "print(popped_element)  # Output: 3\n",
        "print(my_list)  # Output: [1, 2]"
      ],
      "metadata": {
        "colab": {
          "base_uri": "https://localhost:8080/"
        },
        "id": "Guz0hALVtH3k",
        "outputId": "387fb1cd-d30b-4e70-b567-ad3e5a0e01a8"
      },
      "execution_count": null,
      "outputs": [
        {
          "output_type": "stream",
          "name": "stdout",
          "text": [
            "2\n",
            "[1, 3]\n"
          ]
        }
      ]
    },
    {
      "cell_type": "markdown",
      "source": [
        "6. clear()\n",
        "Removes all elements from the list."
      ],
      "metadata": {
        "id": "FY3xNjk8ta68"
      }
    },
    {
      "cell_type": "code",
      "source": [
        "my_list = [1, 2, 3]\n",
        "my_list.clear()\n",
        "print(my_list)  # Output: []"
      ],
      "metadata": {
        "colab": {
          "base_uri": "https://localhost:8080/"
        },
        "id": "R9ZCL-wgtbg0",
        "outputId": "21c43974-540d-4e15-c688-f4f59062d319"
      },
      "execution_count": null,
      "outputs": [
        {
          "output_type": "stream",
          "name": "stdout",
          "text": [
            "[]\n"
          ]
        }
      ]
    },
    {
      "cell_type": "markdown",
      "source": [
        "7. index()\n",
        "Returns the index of the first occurrence of a specified value."
      ],
      "metadata": {
        "id": "2o7mr-vPte7c"
      }
    },
    {
      "cell_type": "code",
      "source": [
        "my_list = [1, 2, 3, 2]\n",
        "index = my_list.index(2)\n",
        "print(index)  # Output: 1"
      ],
      "metadata": {
        "colab": {
          "base_uri": "https://localhost:8080/"
        },
        "id": "qy0FT7DatgN1",
        "outputId": "5d63650e-1723-43a1-da98-52600bc8e897"
      },
      "execution_count": null,
      "outputs": [
        {
          "output_type": "stream",
          "name": "stdout",
          "text": [
            "1\n"
          ]
        }
      ]
    },
    {
      "cell_type": "markdown",
      "source": [
        "8. count()\n",
        "Returns the number of occurrences of a specified value."
      ],
      "metadata": {
        "id": "ke1p0dXLtoK8"
      }
    },
    {
      "cell_type": "code",
      "source": [
        "my_list = [1, 2, 3, 2]\n",
        "count = my_list.count(2)\n",
        "print(count)  # Output: 2"
      ],
      "metadata": {
        "colab": {
          "base_uri": "https://localhost:8080/"
        },
        "id": "zOCb_h9hto28",
        "outputId": "f9a10431-69df-46a6-da41-0532e7622eac"
      },
      "execution_count": null,
      "outputs": [
        {
          "output_type": "stream",
          "name": "stdout",
          "text": [
            "2\n"
          ]
        }
      ]
    },
    {
      "cell_type": "markdown",
      "source": [
        "10. reverse()\n",
        "Reverses the elements of the list in place."
      ],
      "metadata": {
        "id": "sicIGqAttvZE"
      }
    },
    {
      "cell_type": "code",
      "source": [
        "my_list = [1, 2, 3]\n",
        "my_list.reverse()\n",
        "print(my_list)  # Output: [3, 2, 1]"
      ],
      "metadata": {
        "colab": {
          "base_uri": "https://localhost:8080/"
        },
        "id": "OuoxAmbLtwnc",
        "outputId": "58668116-b0c6-4c07-f883-b450f0033951"
      },
      "execution_count": null,
      "outputs": [
        {
          "output_type": "stream",
          "name": "stdout",
          "text": [
            "[3, 2, 1]\n"
          ]
        }
      ]
    },
    {
      "cell_type": "markdown",
      "source": [
        "11. copy()\n",
        "Returns a shallow copy of the list."
      ],
      "metadata": {
        "id": "xkoK1V5ltyTk"
      }
    },
    {
      "cell_type": "code",
      "source": [
        "my_list = [1, 2, 3]\n",
        "my_copy = my_list.copy()\n",
        "print(my_copy)  # Output: [1, 2, 3]"
      ],
      "metadata": {
        "colab": {
          "base_uri": "https://localhost:8080/"
        },
        "id": "-OyU2Rmstzxc",
        "outputId": "0ef3c489-0bd4-4427-a76d-61b57b14ca3a"
      },
      "execution_count": null,
      "outputs": [
        {
          "output_type": "stream",
          "name": "stdout",
          "text": [
            "[1, 2, 3]\n"
          ]
        }
      ]
    },
    {
      "cell_type": "markdown",
      "metadata": {
        "id": "8-BiWxUplUfp"
      },
      "source": [
        "# Packages\n",
        "\n",
        "The REAL power of python is the availability of vast numbers of packages for many uses. To get access to these, you'll need to know how to `import`. Here's a few ways."
      ]
    },
    {
      "cell_type": "code",
      "execution_count": null,
      "metadata": {
        "id": "b0fzx72HlUfq",
        "colab": {
          "base_uri": "https://localhost:8080/"
        },
        "outputId": "5e06a88b-a3e0-4542-d3bf-494da8fec03c"
      },
      "outputs": [
        {
          "output_type": "stream",
          "name": "stdout",
          "text": [
            "3.0\n",
            "4.0\n",
            "5.0\n",
            "6.0\n"
          ]
        }
      ],
      "source": [
        "import math  # Generally, just use this\n",
        "import math as m  # Use this when you're using the package a lot and don't want lines to be too long (e.g. numpy)\n",
        "from math import sqrt  # Use this if you only want ONE function from the math package (if it has a unique name)\n",
        "from math import sqrt as square_root\n",
        "\n",
        "print(math.sqrt(9))\n",
        "print(m.sqrt(16))\n",
        "print(sqrt(25))\n",
        "print(square_root(36))"
      ]
    },
    {
      "cell_type": "markdown",
      "metadata": {
        "id": "KnohMLwSlUfq"
      },
      "source": [
        "Which of the below is preferable (for readability)?"
      ]
    },
    {
      "cell_type": "code",
      "execution_count": null,
      "metadata": {
        "id": "gzzf0s40lUfq"
      },
      "outputs": [],
      "source": [
        "from math import pi\n",
        "r = 15\n",
        "circumference = 2 * math.pi * r\n",
        "circumference = 2 * m.pi * r\n",
        "circumference = 2 * pi * r\n",
        "print(\"The circumference is {}.\".format(circumference))"
      ]
    },
    {
      "cell_type": "markdown",
      "metadata": {
        "id": "Uuda0Qd6lUfq"
      },
      "source": [
        "## What Package?\n",
        "\n",
        "How to find a package? Search for a python package to generate a normally distributed random number, and create a list of one hundred such random numbers."
      ]
    },
    {
      "cell_type": "markdown",
      "source": [
        "Search for a Package: You can search for Python packages on PyPI (Python Package Index), which is the official repository for Python packages."
      ],
      "metadata": {
        "id": "spLsRnwSuhET"
      }
    },
    {
      "cell_type": "code",
      "execution_count": null,
      "metadata": {
        "id": "mY8hDETGlUfq",
        "colab": {
          "base_uri": "https://localhost:8080/"
        },
        "outputId": "73ea0407-def2-4b56-a9fc-0a0bd73d4921"
      },
      "outputs": [
        {
          "output_type": "stream",
          "name": "stdout",
          "text": [
            "[0.14518799321285575, -1.179698354228576, 1.6438091387892002, -0.45728452167040723, -1.6185961406809797, -0.29056638483993874, -0.9571146209465559, 0.47771233320231454, -0.4614649516603493, 1.1589083356173298, 0.3480074288322243, -0.4823287329436288, -2.0414795252569564, 1.764709779797093, 0.5607325192160532, -0.15564293401039228, -3.109294599411733, -0.48984430812569424, -1.3387923794949497, -0.07624403420236234, 0.8159524287515044, 1.7301511024912304, -1.1509403886864469, -0.24439588983076563, -0.362320646998124, 0.9958251693295429, -0.4292462289938996, 1.1029314130777181, -0.22754653898410745, 0.1292054167717036, -0.8952591288489219, -1.1826470174905739, 1.5016402972200271, 0.3729331182699735, 0.008366071919278325, 1.0025919610178098, -0.34183197704671575, -0.004303851285680414, -0.1153906593807585, 0.7217784771044098, -0.6181868928983971, -0.1541769921334618, 0.39158361603934505, -0.9746504147323578, -1.5804990756921362, 0.2986198201401996, 1.6408100859735668, -0.21594235319121205, -1.636576562731253, -1.2293213073555023, -1.1690395598456154, -1.1884157811669802, -0.6024200811571968, 0.6761890010104542, 1.1155747808610317, 0.5212947934020716, 0.7514725975618085, 0.9738525731769715, -0.21019119197503605, 1.4458481798526304, -0.012786953040845251, -0.04687324883669064, -0.15383021916354675, -1.4516415994446532, 0.16400122173291495, -0.11415415813921562, 0.4725381898351602, -0.17324283310291566, -1.2423757903814863, 0.8346815586361234, -0.9975587120493323, -1.4225319426598564, -0.13239516088380182, -1.6833753941174463, -0.2064460167385998, 1.4556181517628182, 1.022400230783543, 1.0120584180167254, 0.4434187704041787, -0.243301666546454, 1.2525774452440925, 2.2882301467266437, 1.1551274494555885, 0.6039403423451835, 0.25304114883902296, -0.7200099202120259, 0.3774387268454863, -0.6865919496099828, 2.1904989861309434, -0.040705358526734396, 0.679408796944937, -2.146465261263826, 0.44994323447271173, 0.5999091475134049, -0.6244515624018676, -0.5013196350508481, -1.2905910780676018, -1.5117167944929646, 3.67886031790271, -0.7361399370022297]\n"
          ]
        }
      ],
      "source": [
        "# Empty cell to be filled in by student\n",
        "\n",
        "import numpy as np\n",
        "\n",
        "# Generate 100 normally distributed random numbers\n",
        "random_numbers = np.random.normal(loc=0.0, scale=1.0, size=100)\n",
        "\n",
        "# Convert the array to a list if needed\n",
        "random_numbers_list = random_numbers.tolist()\n",
        "\n",
        "print(random_numbers_list)"
      ]
    },
    {
      "cell_type": "markdown",
      "source": [
        "Explanation\n",
        "np.random.normal(loc=0.0, scale=1.0, size=100):\n",
        "loc: Mean of the distribution (default is 0.0).\n",
        "scale: Standard deviation of the distribution (default is 1.0).\n",
        "size: Number of random numbers to generate (here, 100).\n",
        "The normal function from numpy generates random numbers from a normal (Gaussian) distribution. The result is converted to a list using the tolist() method."
      ],
      "metadata": {
        "id": "2OPXEu5huaaj"
      }
    },
    {
      "cell_type": "markdown",
      "source": [
        "By using numpy, you leverage a powerful library that provides a wide range of mathematical functions and operations, making it easy to generate normally distributed random numbers and perform other numerical computation"
      ],
      "metadata": {
        "id": "o6zjOdgruqQ6"
      }
    },
    {
      "cell_type": "markdown",
      "metadata": {
        "id": "txvhKJZIlUfr"
      },
      "source": [
        "Now, you want to run the following successfully. The mathematical function you want to use is called `inv()` and it is in the `linalg` subpackage of the `scipy` package. What import command should you use?"
      ]
    },
    {
      "cell_type": "code",
      "source": [
        "# Type an import command below this line\n",
        "from scipy.linalg import inv\n",
        "\n",
        "# Do not change the cell below this line\n",
        "# The expected answer is [[-2, 1], [1.5, -0.5]]\n",
        "def my_inv(matrix):\n",
        "    return inv(matrix)\n",
        "\n",
        "# Test the function\n",
        "result = my_inv([[1, 2], [3, 4]])\n",
        "print(result)"
      ],
      "metadata": {
        "id": "fUGq_j_N5M1k",
        "outputId": "c3e86081-812f-443c-dc81-33bc4a8ec69c",
        "colab": {
          "base_uri": "https://localhost:8080/"
        }
      },
      "execution_count": null,
      "outputs": [
        {
          "output_type": "stream",
          "name": "stdout",
          "text": [
            "[[-2.   1. ]\n",
            " [ 1.5 -0.5]]\n"
          ]
        }
      ]
    }
  ],
  "metadata": {
    "kernelspec": {
      "display_name": "Python 3",
      "language": "python",
      "name": "python3"
    },
    "language_info": {
      "codemirror_mode": {
        "name": "ipython",
        "version": 3
      },
      "file_extension": ".py",
      "mimetype": "text/x-python",
      "name": "python",
      "nbconvert_exporter": "python",
      "pygments_lexer": "ipython3",
      "version": "3.7.3"
    },
    "colab": {
      "provenance": []
    }
  },
  "nbformat": 4,
  "nbformat_minor": 0
}