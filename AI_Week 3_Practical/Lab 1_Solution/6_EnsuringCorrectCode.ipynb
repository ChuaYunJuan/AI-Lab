{
  "cells": [
    {
      "cell_type": "markdown",
      "metadata": {
        "id": "qlSHxvOivZz8"
      },
      "source": [
        "# Ensuring Correct Code\n",
        "\n",
        "## Introduction\n",
        "\n",
        "We've seen a lot of code so far, and you'll be writing more of it as well. How do we solve problems using code? Here's one methodology:-\n",
        "\n",
        "1. Write some code\n",
        "2. Code works\n",
        "3. You're done!\n",
        "\n",
        "If you can do the above, congratulations, you can skip everything below and pack up and go home! If you suspect it's not as straightforward though... that's what we're covering in this notebook."
      ]
    },
    {
      "cell_type": "markdown",
      "metadata": {
        "id": "0gDn2i6KvZz_"
      },
      "source": [
        "## Problem-solving with Code\n",
        "\n",
        "Let's try thinking about our problem in this way:-\n",
        "\n",
        "1. What do I have? *Input*\n",
        "2. What do I want to get? *Output*\n",
        "3. How do I get from 1. to 2.?\n",
        "4. For each step in 3., repeat all these steps\n",
        "\n",
        "As a concrete example, let's consider a phone-book application. We'll think about the problem as above for one iteration:-\n",
        "\n",
        "1. What do I have?\n",
        "  - Some phone numbers and names\n",
        "\n",
        "2. What do I want to get?\n",
        "  - If I have a name, I should be able to find the phone number. If I have a phone number, I should be able to find the name.\n",
        "\n",
        "3. How do I get from 1. to 2.?\n",
        "  - My phone numbers and names must be stored and linked\n",
        "  - I must be able to search through all numbers\n",
        "  - I must be able to search through all names\n",
        "\n",
        "4. For each step in 3., repeat all these steps"
      ]
    },
    {
      "cell_type": "markdown",
      "metadata": {
        "id": "4FTmf7llvZz_"
      },
      "source": [
        "## Breaking it down further\n",
        "\n",
        "After one iteration it is clear we're not done. We've identified three steps (answers to question 3), and each of them need to be looked at separately. Let's take the first one, which says \"My phone numbers and names must be stored and linked\". Let's assume the phone numbers and names are given as lists, as below:-"
      ]
    },
    {
      "cell_type": "code",
      "execution_count": null,
      "metadata": {
        "id": "VeyR00EivZ0A"
      },
      "outputs": [],
      "source": [
        "names = ['Dong Ah Wei', 'Shi Rong Hai', 'Qiang Lin Guo',\n",
        "         'An Dong Hai', 'Gang An Wen', 'Tu Jun Wu',\n",
        "         'Huang Ping Qiu', 'Zhou Zheng Huang', 'Shui Yi Qing',\n",
        "         'Bai Tai Qing', 'Chang Min Jin', 'Bo Jian Hung',\n",
        "         'Shi  Zheng  Cheng', 'Heng Hai Hua', 'Jin Zan Rong',\n",
        "         'Guo Da Dong', 'Yong Li Hua', 'Min Wen Ling',\n",
        "         'Lin Su Jing', 'Zan Tu Jiang', 'Rong Ming Xue']\n",
        "numbers = ['012-503 5290', '012-718 9095', '017-462 4563',\n",
        "           '016-868 2837', '013-743 8070', '017-360 0399',\n",
        "           '019-981 5621', '013-802 8090', '017-152 4110',\n",
        "           '012-716 1836', '012-448 7629', '019-466 7718',\n",
        "           '017-954 7798', '016-665 9924', '017-379 1819',\n",
        "           '013-410 3699', '017-772 8574', '013-102 9685',\n",
        "           '013-839 4659', '016-339 5731', '019-953 6751']\n",
        "# All names and numbers are randomly generated and totally fictional."
      ]
    },
    {
      "cell_type": "markdown",
      "metadata": {
        "id": "vfJZNQRsvZ0B"
      },
      "source": [
        "Right now, we have to make a choice. We could combine both lists into a list of lists. We could use a Numpy 2D array. We could use a DataFrame.\n",
        "\n",
        "There is normally no one right answer. Also, the choice you make can be changed later on with a bit of work. For now, just choose any one of the above, and write code to convert the 2 lists into your chosen format."
      ]
    },
    {
      "cell_type": "code",
      "execution_count": null,
      "metadata": {
        "colab": {
          "base_uri": "https://localhost:8080/"
        },
        "id": "hNxbkJWwvZ0C",
        "outputId": "fb844f6e-4eb0-4036-d356-f7bf5b3435a4"
      },
      "outputs": [
        {
          "output_type": "stream",
          "name": "stdout",
          "text": [
            "[['Dong Ah Wei' '012-503 5290']\n",
            " ['Shi Rong Hai' '012-718 9095']\n",
            " ['Qiang Lin Guo' '017-462 4563']\n",
            " ['An Dong Hai' '016-868 2837']\n",
            " ['Gang An Wen' '013-743 8070']\n",
            " ['Tu Jun Wu' '017-360 0399']\n",
            " ['Huang Ping Qiu' '019-981 5621']\n",
            " ['Zhou Zheng Huang' '013-802 8090']\n",
            " ['Shui Yi Qing' '017-152 4110']\n",
            " ['Bai Tai Qing' '012-716 1836']\n",
            " ['Chang Min Jin' '012-448 7629']\n",
            " ['Bo Jian Hung' '019-466 7718']\n",
            " ['Shi  Zheng  Cheng' '017-954 7798']\n",
            " ['Heng Hai Hua' '016-665 9924']\n",
            " ['Jin Zan Rong' '017-379 1819']\n",
            " ['Guo Da Dong' '013-410 3699']\n",
            " ['Yong Li Hua' '017-772 8574']\n",
            " ['Min Wen Ling' '013-102 9685']\n",
            " ['Lin Su Jing' '013-839 4659']\n",
            " ['Zan Tu Jiang' '016-339 5731']\n",
            " ['Rong Ming Xue' '019-953 6751']]\n"
          ]
        }
      ],
      "source": [
        "# Empty cell to be filled in by student\n",
        "\n",
        "import numpy as np\n",
        "\n",
        "# Convert the 2 lists into 2D numpy array\n",
        "my_data_2D_numpy_array = np.array(list(zip(names, numbers)))\n",
        "\n",
        "# Display\n",
        "print(my_data_2D_numpy_array)"
      ]
    },
    {
      "cell_type": "code",
      "source": [
        "import pandas as pd\n",
        "\n",
        "# Convert the 2 lists into dataframe\n",
        "my_data_dataframe = pd.DataFrame({'Name': names, 'Number': numbers})\n",
        "\n",
        "# Display\n",
        "print(my_data_dataframe)"
      ],
      "metadata": {
        "colab": {
          "base_uri": "https://localhost:8080/"
        },
        "id": "0bwKci8XwmVf",
        "outputId": "3154aad2-a7df-42d3-dc26-987f80c2402c"
      },
      "execution_count": null,
      "outputs": [
        {
          "output_type": "stream",
          "name": "stdout",
          "text": [
            "                 Name        Number\n",
            "0         Dong Ah Wei  012-503 5290\n",
            "1        Shi Rong Hai  012-718 9095\n",
            "2       Qiang Lin Guo  017-462 4563\n",
            "3         An Dong Hai  016-868 2837\n",
            "4         Gang An Wen  013-743 8070\n",
            "5           Tu Jun Wu  017-360 0399\n",
            "6      Huang Ping Qiu  019-981 5621\n",
            "7    Zhou Zheng Huang  013-802 8090\n",
            "8        Shui Yi Qing  017-152 4110\n",
            "9        Bai Tai Qing  012-716 1836\n",
            "10      Chang Min Jin  012-448 7629\n",
            "11       Bo Jian Hung  019-466 7718\n",
            "12  Shi  Zheng  Cheng  017-954 7798\n",
            "13       Heng Hai Hua  016-665 9924\n",
            "14       Jin Zan Rong  017-379 1819\n",
            "15        Guo Da Dong  013-410 3699\n",
            "16        Yong Li Hua  017-772 8574\n",
            "17       Min Wen Ling  013-102 9685\n",
            "18        Lin Su Jing  013-839 4659\n",
            "19       Zan Tu Jiang  016-339 5731\n",
            "20      Rong Ming Xue  019-953 6751\n"
          ]
        }
      ]
    },
    {
      "cell_type": "markdown",
      "metadata": {
        "id": "6vkK0fyevZ0C"
      },
      "source": [
        "## Using functions for some tasks\n",
        "\n",
        "Functions are useful for abstraction, meaning they allow us to represent a block of work as a single function instead of multiple lines of code. For example, the conversion that you did before this could be put in a function (you should try this if you have some time).\n",
        "\n",
        "For now, let's write a function to solve our second step, which says \"I must be able to search through all the numbers\". Running through our questions, the 1st question (what do I have) is easy, but the second question (what do I want to get?) needs defining.\n",
        "\n",
        "In summary, I expect that I should be able to run something like:-\n",
        "\n",
        "    name = my_function(a_phone_number)\n",
        "    \n",
        "If I provide a phone number to the function, the function should return the name linked to that number. This seems like a really good reason to write a function. Perhaps we can call it `search_for_number`."
      ]
    },
    {
      "cell_type": "code",
      "execution_count": null,
      "metadata": {
        "id": "Zg8yBGGSvZ0C"
      },
      "outputs": [],
      "source": [
        "def search_for_number():\n",
        "    pass"
      ]
    },
    {
      "cell_type": "markdown",
      "metadata": {
        "id": "mIiuOizSvZ0C"
      },
      "source": [
        "The cell above defines a function, but it doesn't do anything! You should decide what input(s) you want the function to have. You should then write some code to find the matching name for the number passed to the function. Remember to `return` the answer at the end. Remember as well that the function should in the end behave as in the example above!"
      ]
    },
    {
      "cell_type": "code",
      "execution_count": null,
      "metadata": {
        "id": "VTCKJN5zvZ0D"
      },
      "outputs": [],
      "source": [
        "# Empty cell to be filled in by student\n",
        "def search_for_number_array(phone_number):\n",
        "  for entry in my_data_2D_numpy_array:\n",
        "    if entry[1]==phone_number:\n",
        "      return entry[0]\n",
        "  return \"Number not found\"\n"
      ]
    },
    {
      "cell_type": "code",
      "source": [
        "def search_for_number_dataframe(phone_number):\n",
        "    # Use the DataFrame to find the name associated with the phone number\n",
        "    # This line searches the my_data_dataframe DataFrame for rows where the 'Number' column matches the input phone_number.\n",
        "    # The expression my_data_dataframe['Number'] == phone_number creates a boolean mask that is True for rows where the 'Number' column matches phone_number and False otherwise.\n",
        "    # my_data_dataframe[my_data_dataframe['Number'] == phone_number] uses this boolean mask to filter the DataFrame, resulting in a new DataFrame result that contains only the matching rows.\n",
        "    result = my_data_dataframe[my_data_dataframe['Number'] == phone_number]\n",
        "    print(result)\n",
        "    # This line checks if the result DataFrame is not empty. The empty attribute of a DataFrame returns True if the DataFrame is empty (has no rows) and False otherwise.\n",
        "    # The condition if not result.empty evaluates to True if result contains one or more rows.\n",
        "    if not result.empty:\n",
        "      # If the result DataFrame is not empty, this line returns the 'Name' value of the first row (iloc[0]) in the result DataFrame.\n",
        "      # iloc[0] is used to access the first row of the DataFrame, and ['Name'] is used to access the value in the 'Name' column of that row.\n",
        "        return result.iloc[0]['Name']\n",
        "    # If the result DataFrame is empty (i.e., no matching phone number was found), this line returns the string \"Number not found\".\n",
        "    return \"Number not found\""
      ],
      "metadata": {
        "id": "LHpc5Xam0hX0"
      },
      "execution_count": null,
      "outputs": []
    },
    {
      "cell_type": "markdown",
      "metadata": {
        "id": "aPQTNGa0vZ0D"
      },
      "source": [
        "Obviously we need to test whether our function does what we want."
      ]
    },
    {
      "cell_type": "code",
      "execution_count": null,
      "metadata": {
        "colab": {
          "base_uri": "https://localhost:8080/"
        },
        "id": "0iFriwQYvZ0D",
        "outputId": "3315977d-e5a2-4fbc-a13d-91e48a40e7c8"
      },
      "outputs": [
        {
          "output_type": "stream",
          "name": "stdout",
          "text": [
            "Zan Tu Jiang\n",
            "Rong Ming Xue\n",
            "Number not found\n"
          ]
        }
      ],
      "source": [
        "# Empty cell to be filled in by student\n",
        "print(search_for_number_array('016-339 5731'))\n",
        "print(search_for_number_array('019-953 6751'))\n",
        "print(search_for_number_array('000-000 0000'))  # What should happen here?"
      ]
    },
    {
      "cell_type": "code",
      "source": [
        "# Empty cell to be filled in by student\n",
        "print(search_for_number_dataframe('016-339 5731'))\n",
        "print(search_for_number_dataframe('019-953 6751'))\n",
        "print(search_for_number_dataframe('000-000 0000'))  # What should happen here?"
      ],
      "metadata": {
        "colab": {
          "base_uri": "https://localhost:8080/"
        },
        "id": "lO-2_VQ01JBT",
        "outputId": "a02bb018-09a8-4a12-c982-f5978e6edd4e"
      },
      "execution_count": null,
      "outputs": [
        {
          "output_type": "stream",
          "name": "stdout",
          "text": [
            "            Name        Number\n",
            "19  Zan Tu Jiang  016-339 5731\n",
            "Zan Tu Jiang\n",
            "             Name        Number\n",
            "20  Rong Ming Xue  019-953 6751\n",
            "Rong Ming Xue\n",
            "Empty DataFrame\n",
            "Columns: [Name, Number]\n",
            "Index: []\n",
            "Number not found\n"
          ]
        }
      ]
    }
  ],
  "metadata": {
    "kernelspec": {
      "display_name": "Python 3",
      "language": "python",
      "name": "python3"
    },
    "language_info": {
      "codemirror_mode": {
        "name": "ipython",
        "version": 3
      },
      "file_extension": ".py",
      "mimetype": "text/x-python",
      "name": "python",
      "nbconvert_exporter": "python",
      "pygments_lexer": "ipython3",
      "version": "3.7.3"
    },
    "colab": {
      "provenance": []
    }
  },
  "nbformat": 4,
  "nbformat_minor": 0
}