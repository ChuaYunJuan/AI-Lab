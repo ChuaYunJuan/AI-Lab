{
  "cells": [
    {
      "cell_type": "markdown",
      "metadata": {
        "id": "UqBTQUut66FY"
      },
      "source": [
        "# Numpy\n",
        "\n",
        "## Introduction\n",
        "\n",
        "Numpy stands for Numerical Python. The package comes with a lot of functionality, but the core is the `array` datatype.\n",
        "\n",
        "You can think of `np.array` objects as being similar to lists, but focused on maths rather than being collections of objects. Because of this, `np.array` objects MUST have the same datatype (unlike lists).\n",
        "\n",
        "## Basic Numpy Arrays"
      ]
    },
    {
      "cell_type": "code",
      "execution_count": null,
      "metadata": {
        "colab": {
          "base_uri": "https://localhost:8080/",
          "height": 236
        },
        "id": "TNzLkgSv66Fb",
        "outputId": "a39653c1-f05f-4cb3-be7c-6e4f239c22f3"
      },
      "outputs": [
        {
          "output_type": "stream",
          "name": "stdout",
          "text": [
            "[ 7 16  4  3]\n",
            "['2' '7' '3' '5']\n",
            "[ 9. 23.  7.  8.]\n"
          ]
        },
        {
          "output_type": "error",
          "ename": "UFuncTypeError",
          "evalue": "ufunc 'add' did not contain a loop with signature matching types (dtype('int64'), dtype('<U21')) -> None",
          "traceback": [
            "\u001b[0;31m---------------------------------------------------------------------------\u001b[0m",
            "\u001b[0;31mUFuncTypeError\u001b[0m                            Traceback (most recent call last)",
            "\u001b[0;32m<ipython-input-1-85b9c6ca447d>\u001b[0m in \u001b[0;36m<cell line: 8>\u001b[0;34m()\u001b[0m\n\u001b[1;32m      6\u001b[0m \u001b[0mprint\u001b[0m\u001b[0;34m(\u001b[0m\u001b[0mvec2\u001b[0m\u001b[0;34m)\u001b[0m\u001b[0;34m\u001b[0m\u001b[0;34m\u001b[0m\u001b[0m\n\u001b[1;32m      7\u001b[0m \u001b[0mprint\u001b[0m\u001b[0;34m(\u001b[0m\u001b[0mvec1\u001b[0m \u001b[0;34m+\u001b[0m \u001b[0mvec2\u001b[0m\u001b[0;34m.\u001b[0m\u001b[0mastype\u001b[0m\u001b[0;34m(\u001b[0m\u001b[0mfloat\u001b[0m\u001b[0;34m)\u001b[0m\u001b[0;34m)\u001b[0m\u001b[0;34m\u001b[0m\u001b[0;34m\u001b[0m\u001b[0m\n\u001b[0;32m----> 8\u001b[0;31m \u001b[0mprint\u001b[0m\u001b[0;34m(\u001b[0m\u001b[0mvec1\u001b[0m \u001b[0;34m+\u001b[0m \u001b[0mvec2\u001b[0m\u001b[0;34m)\u001b[0m\u001b[0;34m\u001b[0m\u001b[0;34m\u001b[0m\u001b[0m\n\u001b[0m",
            "\u001b[0;31mUFuncTypeError\u001b[0m: ufunc 'add' did not contain a loop with signature matching types (dtype('int64'), dtype('<U21')) -> None"
          ]
        }
      ],
      "source": [
        "import numpy as np\n",
        "\n",
        "vec1 = np.array([7, 16, 4, 3])\n",
        "vec2 = np.array([2, 7, 3, '5'])\n",
        "print(vec1)\n",
        "print(vec2)\n",
        "print(vec1 + vec2.astype(float))\n",
        "print(vec1 + vec2)"
      ]
    },
    {
      "cell_type": "markdown",
      "metadata": {
        "id": "J7Rw885Z66Fc"
      },
      "source": [
        "## Arrays from Lists - syntax comparison\n",
        "\n",
        "Converting lists to `np.array` objects is easy!"
      ]
    },
    {
      "cell_type": "code",
      "execution_count": null,
      "metadata": {
        "id": "gEJDb2pD66Fd",
        "colab": {
          "base_uri": "https://localhost:8080/"
        },
        "outputId": "9dbebd80-6647-4c87-cdb5-6f6bd413ef80"
      },
      "outputs": [
        {
          "output_type": "stream",
          "name": "stdout",
          "text": [
            "[800.  250.5 101.9]\n",
            "<class 'numpy.ndarray'>\n"
          ]
        }
      ],
      "source": [
        "costs = [800.00, 250.50, 101.90]\n",
        "np_costs = np.array(costs)\n",
        "print(np_costs)\n",
        "print(type(np_costs))"
      ]
    },
    {
      "cell_type": "markdown",
      "metadata": {
        "id": "q98-jpe066Fd"
      },
      "source": [
        "Maths works as you would expect it to for mathematical vectors."
      ]
    },
    {
      "cell_type": "code",
      "execution_count": null,
      "metadata": {
        "id": "L3MQidhS66Fe",
        "colab": {
          "base_uri": "https://localhost:8080/"
        },
        "outputId": "55e6af41-1b26-4680-ef73-6beed02973c9"
      },
      "outputs": [
        {
          "output_type": "stream",
          "name": "stdout",
          "text": [
            "[3296.    1032.06   419.828]\n",
            "[3800.  3250.5 3101.9]\n",
            "[1600.   501.   203.8]\n",
            "[800.0, 250.5, 101.9, 800.0, 250.5, 101.9]\n"
          ]
        }
      ],
      "source": [
        "usd_costs = np_costs*4.12\n",
        "print(usd_costs)\n",
        "with_fixed_cost = np_costs + 3000.00\n",
        "print(with_fixed_cost)\n",
        "\n",
        "print(np_costs + np_costs)  # Numpy array\n",
        "print(costs + costs)  # Normal list"
      ]
    },
    {
      "cell_type": "markdown",
      "metadata": {
        "id": "Iez8wfqB66Fe"
      },
      "source": [
        "Indexing works similar to that of lists."
      ]
    },
    {
      "cell_type": "markdown",
      "source": [
        "random.randrange(48, 96) generates a random integer between 48 and 95 (inclusive of 48, exclusive of 96) for each iteration of the loop.\n",
        "The loop runs 11 times (range(11)), so the list comprehension creates a list with 11 elements, each being a randomly chosen integer from the specified range."
      ],
      "metadata": {
        "id": "L0i76V0CvyJ5"
      }
    },
    {
      "cell_type": "markdown",
      "source": [
        "If your primary concern is performance or if you are performing numerical computations on your data (like matrix operations, statistical analysis, etc.), then using numpy arrays might be beneficial. However, for general purposes such as printing elements or basic data manipulations like slicing, Python lists are perfectly adequate and more straightforward."
      ],
      "metadata": {
        "id": "9CpbtuGKwrvR"
      }
    },
    {
      "cell_type": "code",
      "execution_count": null,
      "metadata": {
        "id": "rAd3kS7Z66Fe",
        "colab": {
          "base_uri": "https://localhost:8080/"
        },
        "outputId": "2634ca48-c500-486d-a9fc-f565a4135a69"
      },
      "outputs": [
        {
          "output_type": "stream",
          "name": "stdout",
          "text": [
            "[57 88 53 48 72 68 53 55 77 80 69]\n",
            "57\n",
            "69\n",
            "72\n",
            "[57 88 53 48]\n",
            "[48 72]\n",
            "[57 88 53 48 72 68 53 55 77 80]\n",
            "[77 80 69]\n",
            "[57 53 72 53 77 69]\n",
            "[88 53]\n",
            "[53 68]\n",
            "[53 68 77]\n"
          ]
        }
      ],
      "source": [
        "import random\n",
        "weights = [random.randrange(48, 96) for value in range(11)]\n",
        "weights = np.array(weights)\n",
        "print(weights)\n",
        "print(weights[0])\n",
        "print(weights[-1])\n",
        "print(weights[4])\n",
        "print(weights[:4])#This command prints the elements from the beginning of the list up to, but not including, index 4.\n",
        "print(weights[3:-6]) #This command prints the elements from index 3 up to, but not including, index -6. In Python, negative indices count from the end of the list.\n",
        "print(weights[:-1]) #slicing this list to exclude the last element.\n",
        "print(weights[8:])#This command prints the elements from index 8 to the end of the list.\n",
        "print(weights[::2])#This command prints every second element of the list starting from the first element in the list.\n",
        "print(weights[1:3])# including first element but excluding 3rd\n",
        "print(weights[2:8:3])#This will give every third element from index 2 to 7. (not including 8)\n",
        "print(weights[2:9:3]) # specifies a slice that starts at index 2, ends at index 9 (exclusive), and takes steps of 3 indices at a time."
      ]
    },
    {
      "cell_type": "markdown",
      "metadata": {
        "id": "GopEebXX66Fe"
      },
      "source": [
        "However, you can also use boolean indexing. This means you provide a list/array of boolean values, and those values which are `True` are returned as the result of the slicing."
      ]
    },
    {
      "cell_type": "code",
      "execution_count": null,
      "metadata": {
        "id": "q2M6N0D866Ff",
        "colab": {
          "base_uri": "https://localhost:8080/"
        },
        "outputId": "93450c3d-d5d2-46da-bab3-d911a3bf3812"
      },
      "outputs": [
        {
          "output_type": "stream",
          "name": "stdout",
          "text": [
            "[False  True False False False False False False False False False]\n",
            "[88]\n",
            "[57 53 48 72 68 53 55 77 80 69]\n"
          ]
        }
      ],
      "source": [
        "heavy = weights > 80\n",
        "print(heavy)\n",
        "print(weights[heavy])\n",
        "print(weights[np.invert(heavy)])\n",
        "# Use 'help' to figure out what np.invert does! It Computes the bit-wise NOT operation on each element of the input array."
      ]
    },
    {
      "cell_type": "markdown",
      "metadata": {
        "id": "uqPd252R66Ff"
      },
      "source": [
        "## Multi-dimensional Numpy arrays\n",
        "\n",
        "Numpy arrays can have more than 1 dimension (that's why they're nd-arrays, where n can be any number)."
      ]
    },
    {
      "cell_type": "code",
      "execution_count": null,
      "metadata": {
        "id": "ywv9b7jL66Ff",
        "colab": {
          "base_uri": "https://localhost:8080/"
        },
        "outputId": "65218d93-8343-42ec-cbfe-72f4efb3d35e"
      },
      "outputs": [
        {
          "output_type": "stream",
          "name": "stdout",
          "text": [
            "[54, 89, 75, 55, 58, 75, 76, 61, 59, 92, 81]\n",
            "[175, 167, 188, 187, 160, 187, 148, 184, 181, 162, 189]\n",
            "[(175, 54), (167, 89), (188, 75), (187, 55), (160, 58), (187, 75), (148, 76), (184, 61), (181, 59), (162, 92), (189, 81)]\n",
            "[[175  54]\n",
            " [167  89]\n",
            " [188  75]\n",
            " [187  55]\n",
            " [160  58]\n",
            " [187  75]\n",
            " [148  76]\n",
            " [184  61]\n",
            " [181  59]\n",
            " [162  92]\n",
            " [189  81]]\n",
            "(11, 2)\n"
          ]
        }
      ],
      "source": [
        "weights = [random.randrange(48, 96) for value in range(11)]\n",
        "heights = [random.randrange(140, 190) for value in range(11)]\n",
        "print(weights)\n",
        "print(heights)\n",
        "combined = list(zip(heights, weights))\n",
        "print(combined)\n",
        "combined = np.array(combined)\n",
        "print(combined)\n",
        "print(combined.shape)"
      ]
    },
    {
      "cell_type": "code",
      "source": [
        "import random\n",
        "weights = [random.randrange(48, 96) for value in range(11)]\n",
        "heights = [random.randrange(140, 190) for value in range(11)]\n",
        "\n",
        "combined = list(zip(heights, weights))\n",
        "print(type(combined))\n",
        "print(combined)\n"
      ],
      "metadata": {
        "colab": {
          "base_uri": "https://localhost:8080/"
        },
        "id": "8WFfeKJqWjeG",
        "outputId": "8dce4701-472b-4af1-f7c5-6ce6a58b44b9"
      },
      "execution_count": null,
      "outputs": [
        {
          "output_type": "stream",
          "name": "stdout",
          "text": [
            "<class 'list'>\n",
            "[(151, 73), (160, 65), (166, 54), (143, 72), (162, 62), (153, 54), (179, 87), (172, 64), (161, 69), (167, 77), (174, 87)]\n"
          ]
        }
      ]
    },
    {
      "cell_type": "markdown",
      "metadata": {
        "id": "ncXuPjFe66Fg"
      },
      "source": [
        "With multiple dimensions we need multiple indices (plural of index)."
      ]
    },
    {
      "cell_type": "code",
      "execution_count": null,
      "metadata": {
        "id": "wGhEcrmE66Fg",
        "colab": {
          "base_uri": "https://localhost:8080/"
        },
        "outputId": "04a46ea8-3623-4307-cbc8-0ec08d996e3c"
      },
      "outputs": [
        {
          "output_type": "stream",
          "name": "stdout",
          "text": [
            "[187  55]\n",
            "[187  55]\n",
            "187\n",
            "55\n",
            "[[187  55]\n",
            " [160  58]\n",
            " [187  75]\n",
            " [148  76]]\n",
            "[[187  55]\n",
            " [160  58]\n",
            " [187  75]\n",
            " [148  76]]\n",
            "[187 160 187 148]\n",
            "[175 167 188 187 160 187 148 184 181 162 189]\n",
            "[175, 167, 188, 187, 160, 187, 148, 184, 181, 162, 189]\n"
          ]
        }
      ],
      "source": [
        "print(combined[3]) #This command accesses the element at index 3 of the NumPy array combined, which corresponds to the fourth row.\n",
        "print(combined[3,:]) #This command accesses the entire row at index 3 of the NumPy array combined.\n",
        "print(combined[3,0]) #This command accesses the element at row 3 and column 0 of the NumPy array combined (array[row,column])\n",
        "print(combined[3,1]) #This command accesses the element at row 3 and column 1 of the NumPy array combined.\n",
        "print(combined[3:7]) #This command accesses a slice of rows from index 3 to 6 (inclusive) of the NumPy array combined.\n",
        "print(combined[3:7,:]) #This command accesses a slice of rows from index 3 to 6 (inclusive) and all columns of the NumPy array combined.\n",
        "print(combined[3:7,0]) #This command accesses a slice of rows from index 3 to 6 (inclusive) and only the first column of the NumPy array combined\n",
        "print(combined[:,0]) #This command accesses the first column of all rows in the NumPy array combined.\n",
        "print(heights)"
      ]
    },
    {
      "cell_type": "markdown",
      "metadata": {
        "id": "KcNgTvUB66Fg"
      },
      "source": [
        "We can also do maths on these multi-dimensional arrays."
      ]
    },
    {
      "cell_type": "code",
      "execution_count": null,
      "metadata": {
        "id": "mJfuGANL66Fg",
        "colab": {
          "base_uri": "https://localhost:8080/"
        },
        "outputId": "7cb1a5c6-aea8-477e-9c8e-b653acc8a4f1"
      },
      "outputs": [
        {
          "output_type": "stream",
          "name": "stdout",
          "text": [
            "[[145.83333333  45.        ]\n",
            " [139.16666667  74.16666667]\n",
            " [156.66666667  62.5       ]\n",
            " [155.83333333  45.83333333]\n",
            " [133.33333333  48.33333333]\n",
            " [155.83333333  62.5       ]\n",
            " [123.33333333  63.33333333]\n",
            " [153.33333333  50.83333333]\n",
            " [150.83333333  49.16666667]\n",
            " [135.          76.66666667]\n",
            " [157.5         67.5       ]]\n",
            "[[30625  2916]\n",
            " [27889  7921]\n",
            " [35344  5625]\n",
            " [34969  3025]\n",
            " [25600  3364]\n",
            " [34969  5625]\n",
            " [21904  5776]\n",
            " [33856  3721]\n",
            " [32761  3481]\n",
            " [26244  8464]\n",
            " [35721  6561]]\n",
            "[[125   4]\n",
            " [117  39]\n",
            " [138  25]\n",
            " [137   5]\n",
            " [110   8]\n",
            " [137  25]\n",
            " [ 98  26]\n",
            " [134  11]\n",
            " [131   9]\n",
            " [112  42]\n",
            " [139  31]]\n"
          ]
        }
      ],
      "source": [
        "print(combined/1.2)\n",
        "print(combined**2)\n",
        "print(combined - 50)"
      ]
    },
    {
      "cell_type": "code",
      "execution_count": null,
      "metadata": {
        "id": "cC5NsW3S66Fg",
        "colab": {
          "base_uri": "https://localhost:8080/"
        },
        "outputId": "3a348b9d-947d-4aa7-b414-b2ffc6adfcb2"
      },
      "outputs": [
        {
          "output_type": "stream",
          "name": "stdout",
          "text": [
            "[[175  54]\n",
            " [167  89]\n",
            " [188  75]\n",
            " [187  55]\n",
            " [160  58]\n",
            " [187  75]\n",
            " [148  76]\n",
            " [184  61]\n",
            " [181  59]\n",
            " [162  92]\n",
            " [189  81]]\n",
            "[[  5.74147    119.04962148]\n",
            " [  5.4790028  196.21141318]\n",
            " [  6.1679792  165.3466965 ]\n",
            " [  6.1351708  121.2542441 ]\n",
            " [  5.249344   127.86811196]\n",
            " [  6.1351708  165.3466965 ]\n",
            " [  4.8556432  167.55131912]\n",
            " [  6.0367456  134.48197982]\n",
            " [  5.9383204  130.07273458]\n",
            " [  5.3149608  202.82528104]\n",
            " [  6.2007876  178.57443222]]\n"
          ]
        }
      ],
      "source": [
        "conversion = [0.0328084, 2.20462262]  # cm->feet, kg->lb\n",
        "print(combined)\n",
        "print(combined*conversion)"
      ]
    },
    {
      "cell_type": "markdown",
      "metadata": {
        "id": "x2vNcah166Fg"
      },
      "source": [
        "## Basic Stats with Numpy\n",
        "\n",
        "Obviously, one of the more interesting mathematical things to do when you have arrays is calculate some basic stats."
      ]
    },
    {
      "cell_type": "code",
      "execution_count": null,
      "metadata": {
        "id": "XN2vnF6E66Fg",
        "colab": {
          "base_uri": "https://localhost:8080/"
        },
        "outputId": "c151a8c8-869d-4cc7-e096-a8009dfe54e8"
      },
      "outputs": [
        {
          "output_type": "stream",
          "name": "stdout",
          "text": [
            "[[175  54]\n",
            " [167  89]\n",
            " [188  75]\n",
            " [187  55]\n",
            " [160  58]\n",
            " [187  75]\n",
            " [148  76]\n",
            " [184  61]\n",
            " [181  59]\n",
            " [162  92]\n",
            " [189  81]]\n",
            "122.86363636363636\n"
          ]
        }
      ],
      "source": [
        "print(combined)\n",
        "print(np.mean(combined))  # Does this make sense? it calculates the mean of all these values together."
      ]
    },
    {
      "cell_type": "markdown",
      "metadata": {
        "id": "1KCT1iA966Fh"
      },
      "source": [
        "Just like with anything else to do with `nd-array` objects, stats would probably benefit from being more specific..."
      ]
    },
    {
      "cell_type": "code",
      "execution_count": null,
      "metadata": {
        "id": "ChHjMsvs66Fh",
        "colab": {
          "base_uri": "https://localhost:8080/"
        },
        "outputId": "d17de80a-712f-4a71-8508-e8c8f561693b"
      },
      "outputs": [
        {
          "output_type": "stream",
          "name": "stdout",
          "text": [
            "[[175  54]\n",
            " [167  89]\n",
            " [188  75]\n",
            " [187  55]\n",
            " [160  58]\n",
            " [187  75]\n",
            " [148  76]\n",
            " [184  61]\n",
            " [181  59]\n",
            " [162  92]\n",
            " [189  81]]\n",
            "175.27272727272728\n",
            "70.45454545454545\n",
            "189 181.0 148 13.33546814865536\n",
            "[[ 1.         -0.24496512]\n",
            " [-0.24496512  1.        ]]\n"
          ]
        }
      ],
      "source": [
        "print(combined)\n",
        "print(np.mean(combined[:,0]))\n",
        "print(np.mean(combined[:,1]))\n",
        "heights = combined[:,0]\n",
        "print(np.max(heights), np.median(heights), np.min(heights), np.std(heights))\n",
        "weights = combined[:,1]\n",
        "print(np.corrcoef(heights, weights)) #computes the Pearson correlation coefficient between two arrays, heights and weights"
      ]
    },
    {
      "cell_type": "markdown",
      "metadata": {
        "id": "VCmhF-Qf66Fh"
      },
      "source": [
        "You can even filter out certain values and do your simple stats calculations on the results."
      ]
    },
    {
      "cell_type": "code",
      "execution_count": null,
      "metadata": {
        "id": "bcirzpWp66Fh",
        "colab": {
          "base_uri": "https://localhost:8080/"
        },
        "outputId": "0fbdc563-e97f-49ab-d74b-fcc8ba4ff934"
      },
      "outputs": [
        {
          "output_type": "stream",
          "name": "stdout",
          "text": [
            "[54 89 75 55 58 75 76 61 59 92 81]\n",
            "[89 92 81]\n",
            "70.45454545454545\n",
            "87.33333333333333\n"
          ]
        }
      ],
      "source": [
        "heavy = weights > 80\n",
        "print(weights)\n",
        "print(weights[heavy])\n",
        "print(np.mean(weights))\n",
        "print(np.mean(weights[heavy]))"
      ]
    }
  ],
  "metadata": {
    "kernelspec": {
      "display_name": "Python 3",
      "language": "python",
      "name": "python3"
    },
    "language_info": {
      "codemirror_mode": {
        "name": "ipython",
        "version": 3
      },
      "file_extension": ".py",
      "mimetype": "text/x-python",
      "name": "python",
      "nbconvert_exporter": "python",
      "pygments_lexer": "ipython3",
      "version": "3.7.3"
    },
    "colab": {
      "provenance": []
    }
  },
  "nbformat": 4,
  "nbformat_minor": 0
}