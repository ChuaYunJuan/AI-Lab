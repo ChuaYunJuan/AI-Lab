{
  "cells": [
    {
      "cell_type": "markdown",
      "metadata": {
        "id": "VpZimq3YbS_N"
      },
      "source": [
        "# Variables and Types\n",
        "\n",
        "## Introduction\n",
        "\n",
        "All programming languages have the concept of variables and datatypes, Python is no different\n",
        "\n",
        "## Variables\n",
        "\n",
        "Variables can have any name (using letters, numbers, and underscore)."
      ]
    },
    {
      "cell_type": "code",
      "execution_count": null,
      "metadata": {
        "colab": {
          "base_uri": "https://localhost:8080/"
        },
        "id": "Sleg_tHWbS_P",
        "outputId": "ccff2abc-1bbf-43a1-9df0-087b751d3eed"
      },
      "outputs": [
        {
          "output_type": "stream",
          "name": "stdout",
          "text": [
            "100\n"
          ]
        }
      ],
      "source": [
        "value = 100\n",
        "print(value)"
      ]
    },
    {
      "cell_type": "markdown",
      "metadata": {
        "id": "JUC5kRkwbS_Q"
      },
      "source": [
        "Well.... almost! Let's take a look at the variable name below.\n",
        "\n",
        "*Note* - Do take careful note of how you should read Python error messages (bottom to top)"
      ]
    },
    {
      "cell_type": "code",
      "execution_count": null,
      "metadata": {
        "colab": {
          "base_uri": "https://localhost:8080/",
          "height": 124
        },
        "id": "_XLTUTYybS_R",
        "outputId": "2c562b9a-c3cb-4959-8a67-98336540e96d"
      },
      "outputs": [
        {
          "output_type": "error",
          "ename": "SyntaxError",
          "evalue": "invalid decimal literal (<ipython-input-1-61fbcb9373d4>, line 1)",
          "traceback": [
            "\u001b[0;36m  File \u001b[0;32m\"<ipython-input-1-61fbcb9373d4>\"\u001b[0;36m, line \u001b[0;32m1\u001b[0m\n\u001b[0;31m    1stAmendment = \"Congress shall make no law respecting an establishment of religion, or prohibiting the free exercise thereof; or abridging the freedom of speech, or of the press; or the right of the people peaceably to assemble, and to petition the Government for a redress of grievances.\"\u001b[0m\n\u001b[0m    ^\u001b[0m\n\u001b[0;31mSyntaxError\u001b[0m\u001b[0;31m:\u001b[0m invalid decimal literal\n"
          ]
        }
      ],
      "source": [
        "1stAmendment = \"Congress shall make no law respecting an establishment of religion, or prohibiting the free exercise thereof; or abridging the freedom of speech, or of the press; or the right of the people peaceably to assemble, and to petition the Government for a redress of grievances.\"\n",
        "print(1stAmendment)"
      ]
    },
    {
      "cell_type": "code",
      "execution_count": null,
      "metadata": {
        "colab": {
          "base_uri": "https://localhost:8080/"
        },
        "id": "owEuXA9dbS_R",
        "outputId": "ac4ac8ef-dc47-4efd-e518-31d4ac19ec1e"
      },
      "outputs": [
        {
          "output_type": "stream",
          "name": "stdout",
          "text": [
            "50000.0\n"
          ]
        }
      ],
      "source": [
        "safety_factor = 2.5\n",
        "shear_strength = 8000\n",
        "design_minimum = shear_strength*(safety_factor**2)\n",
        "print(design_minimum)\n"
      ]
    },
    {
      "cell_type": "markdown",
      "metadata": {
        "id": "4PCC_jj0bS_R"
      },
      "source": [
        "## Variable Type\n",
        "\n",
        "The type of a variable's data can be found using the `type` function. Let's look at the help for this function."
      ]
    },
    {
      "cell_type": "code",
      "execution_count": null,
      "metadata": {
        "colab": {
          "base_uri": "https://localhost:8080/"
        },
        "id": "2DIL7I9MbS_R",
        "outputId": "c163f590-454d-4f5b-96d0-5e479487bab0"
      },
      "outputs": [
        {
          "output_type": "stream",
          "name": "stdout",
          "text": [
            "Help on class type in module builtins:\n",
            "\n",
            "class type(object)\n",
            " |  type(object) -> the object's type\n",
            " |  type(name, bases, dict, **kwds) -> a new type\n",
            " |  \n",
            " |  Methods defined here:\n",
            " |  \n",
            " |  __call__(self, /, *args, **kwargs)\n",
            " |      Call self as a function.\n",
            " |  \n",
            " |  __delattr__(self, name, /)\n",
            " |      Implement delattr(self, name).\n",
            " |  \n",
            " |  __dir__(self, /)\n",
            " |      Specialized __dir__ implementation for types.\n",
            " |  \n",
            " |  __getattribute__(self, name, /)\n",
            " |      Return getattr(self, name).\n",
            " |  \n",
            " |  __init__(self, /, *args, **kwargs)\n",
            " |      Initialize self.  See help(type(self)) for accurate signature.\n",
            " |  \n",
            " |  __instancecheck__(self, instance, /)\n",
            " |      Check if an object is an instance.\n",
            " |  \n",
            " |  __or__(self, value, /)\n",
            " |      Return self|value.\n",
            " |  \n",
            " |  __repr__(self, /)\n",
            " |      Return repr(self).\n",
            " |  \n",
            " |  __ror__(self, value, /)\n",
            " |      Return value|self.\n",
            " |  \n",
            " |  __setattr__(self, name, value, /)\n",
            " |      Implement setattr(self, name, value).\n",
            " |  \n",
            " |  __sizeof__(self, /)\n",
            " |      Return memory consumption of the type object.\n",
            " |  \n",
            " |  __subclasscheck__(self, subclass, /)\n",
            " |      Check if a class is a subclass.\n",
            " |  \n",
            " |  __subclasses__(self, /)\n",
            " |      Return a list of immediate subclasses.\n",
            " |  \n",
            " |  mro(self, /)\n",
            " |      Return a type's method resolution order.\n",
            " |  \n",
            " |  ----------------------------------------------------------------------\n",
            " |  Class methods defined here:\n",
            " |  \n",
            " |  __prepare__(...)\n",
            " |      __prepare__() -> dict\n",
            " |      used to create the namespace for the class statement\n",
            " |  \n",
            " |  ----------------------------------------------------------------------\n",
            " |  Static methods defined here:\n",
            " |  \n",
            " |  __new__(*args, **kwargs)\n",
            " |      Create and return a new object.  See help(type) for accurate signature.\n",
            " |  \n",
            " |  ----------------------------------------------------------------------\n",
            " |  Data descriptors defined here:\n",
            " |  \n",
            " |  __abstractmethods__\n",
            " |  \n",
            " |  __annotations__\n",
            " |  \n",
            " |  __dict__\n",
            " |  \n",
            " |  __text_signature__\n",
            " |  \n",
            " |  ----------------------------------------------------------------------\n",
            " |  Data and other attributes defined here:\n",
            " |  \n",
            " |  __base__ = <class 'object'>\n",
            " |      The base class of the class hierarchy.\n",
            " |      \n",
            " |      When called, it accepts no arguments and returns a new featureless\n",
            " |      instance that has no instance attributes and cannot be given any.\n",
            " |  \n",
            " |  \n",
            " |  __bases__ = (<class 'object'>,)\n",
            " |  \n",
            " |  __basicsize__ = 888\n",
            " |  \n",
            " |  __dictoffset__ = 264\n",
            " |  \n",
            " |  __flags__ = 2148031744\n",
            " |  \n",
            " |  __itemsize__ = 40\n",
            " |  \n",
            " |  __mro__ = (<class 'type'>, <class 'object'>)\n",
            " |  \n",
            " |  __weakrefoffset__ = 368\n",
            "\n"
          ]
        }
      ],
      "source": [
        "help(type)"
      ]
    },
    {
      "cell_type": "code",
      "execution_count": null,
      "metadata": {
        "colab": {
          "base_uri": "https://localhost:8080/"
        },
        "id": "7vP9b00ebS_S",
        "outputId": "9d3d3f2e-454c-4d86-f6ad-dbe67ea56162"
      },
      "outputs": [
        {
          "output_type": "stream",
          "name": "stdout",
          "text": [
            "22222\n",
            "5\n",
            "2\n",
            "1.25\n"
          ]
        }
      ],
      "source": [
        "a = 5\n",
        "b = '2'\n",
        "c = True\n",
        "ab = a*b\n",
        "ac = a*c\n",
        "bc = b*c\n",
        "a_divided = a/4\n",
        "\n",
        "print(ab)\n",
        "print(ac)\n",
        "print(bc)\n",
        "print(a_divided)"
      ]
    },
    {
      "cell_type": "code",
      "execution_count": null,
      "metadata": {
        "colab": {
          "base_uri": "https://localhost:8080/"
        },
        "id": "TC5F4MfFbS_S",
        "outputId": "a5018c68-3f9a-4f12-b850-5ef975402438"
      },
      "outputs": [
        {
          "output_type": "stream",
          "name": "stdout",
          "text": [
            "<class 'str'>\n",
            "<class 'int'>\n",
            "<class 'str'>\n",
            "<class 'float'>\n"
          ]
        }
      ],
      "source": [
        "print(type(ab))\n",
        "print(type(ac))\n",
        "print(type(bc))\n",
        "print(type(a_divided))"
      ]
    },
    {
      "cell_type": "markdown",
      "metadata": {
        "id": "1w7mnEbxbS_S"
      },
      "source": [
        "Certain types of operands can't work on certain combinations of types."
      ]
    },
    {
      "cell_type": "code",
      "execution_count": null,
      "metadata": {
        "colab": {
          "base_uri": "https://localhost:8080/",
          "height": 176
        },
        "id": "IYJQh4j1bS_S",
        "outputId": "6a9dff5a-e13d-456f-ec66-0c19b53fe8d4"
      },
      "outputs": [
        {
          "output_type": "stream",
          "name": "stdout",
          "text": [
            "22222\n"
          ]
        },
        {
          "output_type": "error",
          "ename": "TypeError",
          "evalue": "unsupported operand type(s) for +: 'int' and 'str'",
          "traceback": [
            "\u001b[0;31m---------------------------------------------------------------------------\u001b[0m",
            "\u001b[0;31mTypeError\u001b[0m                                 Traceback (most recent call last)",
            "\u001b[0;32m<ipython-input-16-9d48dce5a1f5>\u001b[0m in \u001b[0;36m<cell line: 2>\u001b[0;34m()\u001b[0m\n\u001b[1;32m      1\u001b[0m \u001b[0mprint\u001b[0m\u001b[0;34m(\u001b[0m\u001b[0mab\u001b[0m\u001b[0;34m)\u001b[0m\u001b[0;34m\u001b[0m\u001b[0;34m\u001b[0m\u001b[0m\n\u001b[0;32m----> 2\u001b[0;31m \u001b[0mprint\u001b[0m\u001b[0;34m(\u001b[0m\u001b[0ma\u001b[0m\u001b[0;34m+\u001b[0m\u001b[0mb\u001b[0m\u001b[0;34m)\u001b[0m\u001b[0;34m\u001b[0m\u001b[0;34m\u001b[0m\u001b[0m\n\u001b[0m",
            "\u001b[0;31mTypeError\u001b[0m: unsupported operand type(s) for +: 'int' and 'str'"
          ]
        }
      ],
      "source": [
        "print(ab)\n",
        "print(a+b)"
      ]
    },
    {
      "cell_type": "markdown",
      "metadata": {
        "id": "d-VcxgYibS_S"
      },
      "source": [
        "When printing, it's normally best to use strings (well, obviously). Adding strings together is one simple method of controlling your print output."
      ]
    },
    {
      "cell_type": "code",
      "execution_count": null,
      "metadata": {
        "colab": {
          "base_uri": "https://localhost:8080/"
        },
        "id": "O2EPwUd-bS_S",
        "outputId": "2a4833d2-8cb8-4d1e-8954-11678d600364"
      },
      "outputs": [
        {
          "output_type": "stream",
          "name": "stdout",
          "text": [
            "The value of pi that I can remember is \"3.141592653589793\"\n"
          ]
        }
      ],
      "source": [
        "calculation_result = 3.141592653589793238462643383279\n",
        "\n",
        "# Note that to print the double inverted commas, we define the string\n",
        "# using single inverted commas (vice versa also works)\n",
        "print(\"The value of pi that I can remember is \" + '\"' + str(calculation_result) + '\"')"
      ]
    },
    {
      "cell_type": "markdown",
      "metadata": {
        "id": "9aqRHM6TbS_S"
      },
      "source": [
        "Another (perhaps more intuitive) way to format strings is the 'format' method for the string class."
      ]
    },
    {
      "cell_type": "code",
      "execution_count": null,
      "metadata": {
        "colab": {
          "base_uri": "https://localhost:8080/"
        },
        "id": "UdafJA83bS_T",
        "outputId": "387c85f0-c57a-4d47-eca4-20313e89b55f"
      },
      "outputs": [
        {
          "output_type": "stream",
          "name": "stdout",
          "text": [
            "Help on method_descriptor:\n",
            "\n",
            "format(...)\n",
            "    S.format(*args, **kwargs) -> str\n",
            "    \n",
            "    Return a formatted version of S, using substitutions from args and kwargs.\n",
            "    The substitutions are identified by braces ('{' and '}').\n",
            "\n"
          ]
        }
      ],
      "source": [
        "help(str.format)"
      ]
    },
    {
      "cell_type": "markdown",
      "source": [
        "**kwargs is used to pass a variable number of keyword arguments to a function.\n",
        "It collects these arguments into a dictionary within the function.\n",
        "It provides flexibility in function definitions, allowing for optional and additional parameters without explicitly defining them."
      ],
      "metadata": {
        "id": "X4p9yTtZm119"
      }
    },
    {
      "cell_type": "markdown",
      "source": [
        "Using kwargs\n",
        "When defining a function, you can include **kwargs in the parameter list to allow it to accept any number of keyword arguments:"
      ],
      "metadata": {
        "id": "-MjsPmo-omri"
      }
    },
    {
      "cell_type": "code",
      "source": [
        "def my_function(**kwargs):\n",
        "    for key, value in kwargs.items():\n",
        "        print(f\"{key} = {value}\")"
      ],
      "metadata": {
        "id": "0YMDFxizowCD"
      },
      "execution_count": null,
      "outputs": []
    },
    {
      "cell_type": "markdown",
      "source": [
        "The f in print(f\"{key} = {value}\") signifies an f-string (formatted string literal) in Python. F-strings provide a way to embed expressions inside string literals, using curly braces {}."
      ],
      "metadata": {
        "id": "C_rGiXxLpDeb"
      }
    },
    {
      "cell_type": "markdown",
      "source": [
        "In above function, kwargs is a dictionary that contains all the keyword arguments passed to my_function. Here's how you can use it:"
      ],
      "metadata": {
        "id": "M51oaIzyozAR"
      }
    },
    {
      "cell_type": "code",
      "source": [
        "my_function(name=\"Alice\", age=30, city=\"New York\")"
      ],
      "metadata": {
        "colab": {
          "base_uri": "https://localhost:8080/"
        },
        "id": "PXpawNk3o1iC",
        "outputId": "0069f2d9-cfcc-4781-9286-ac3ca3a8796f"
      },
      "execution_count": null,
      "outputs": [
        {
          "output_type": "stream",
          "name": "stdout",
          "text": [
            "name = Alice\n",
            "age = 30\n",
            "city = New York\n"
          ]
        }
      ]
    },
    {
      "cell_type": "code",
      "execution_count": null,
      "metadata": {
        "colab": {
          "base_uri": "https://localhost:8080/"
        },
        "id": "IWH8zqGHbS_T",
        "outputId": "21a7fd4a-5747-4845-c0c3-3bf99df23476"
      },
      "outputs": [
        {
          "output_type": "stream",
          "name": "stdout",
          "text": [
            "Help on built-in function format:\n",
            "\n",
            "format(...) method of builtins.str instance\n",
            "    S.format(*args, **kwargs) -> str\n",
            "    \n",
            "    Return a formatted version of S, using substitutions from args and kwargs.\n",
            "    The substitutions are identified by braces ('{' and '}').\n",
            "\n"
          ]
        }
      ],
      "source": [
        "my_str = \"some value\"\n",
        "# my_str.format?  # This works like `help` but in a popup window\n",
        "help(my_str.format)\n"
      ]
    },
    {
      "cell_type": "code",
      "execution_count": null,
      "metadata": {
        "colab": {
          "base_uri": "https://localhost:8080/"
        },
        "id": "8byLETKcbS_T",
        "outputId": "f1a21304-47a7-4006-bc2b-9ff9fb162cae"
      },
      "outputs": [
        {
          "output_type": "stream",
          "name": "stdout",
          "text": [
            "The value of pi that I can remember is \"3.141592653589793\"\n"
          ]
        }
      ],
      "source": [
        "print('The value of pi that I can remember is \"{}\"'.format(calculation_result))"
      ]
    },
    {
      "cell_type": "markdown",
      "source": [
        "Examples\n",
        "Here are some examples to illustrate how the format method works:"
      ],
      "metadata": {
        "id": "EDNwbQkinHvc"
      }
    },
    {
      "cell_type": "markdown",
      "source": [
        "Positional Arguments"
      ],
      "metadata": {
        "id": "piVdKp1qnJ3j"
      }
    },
    {
      "cell_type": "markdown",
      "source": [],
      "metadata": {
        "id": "BXOlXYK5nVCk"
      }
    },
    {
      "cell_type": "code",
      "source": [
        "s = \"Hello, {}!\"\n",
        "formatted_string = s.format(\"world\")\n",
        "print(formatted_string)  # Output: \"Hello, world!\""
      ],
      "metadata": {
        "id": "dsaoxOKMnISc"
      },
      "execution_count": null,
      "outputs": []
    },
    {
      "cell_type": "markdown",
      "source": [
        "The placeholder {} in the string s is replaced by the first (and only) argument \"world\"."
      ],
      "metadata": {
        "id": "nC9_xMxfnNzD"
      }
    },
    {
      "cell_type": "markdown",
      "source": [
        "Multiple Positional Arguments:"
      ],
      "metadata": {
        "id": "arqaAbmsnO10"
      }
    },
    {
      "cell_type": "code",
      "source": [
        "s = \"{} is {} years old.\"\n",
        "formatted_string = s.format(\"Alice\", 30)\n",
        "print(formatted_string)  # Output: \"Alice is 30 years old.\""
      ],
      "metadata": {
        "id": "tPGW_oeknXo7"
      },
      "execution_count": null,
      "outputs": []
    },
    {
      "cell_type": "markdown",
      "source": [
        "The first {} is replaced by \"Alice\", and the second {} is replaced by 30."
      ],
      "metadata": {
        "id": "82Le3mUInZx1"
      }
    },
    {
      "cell_type": "markdown",
      "source": [
        "Keyword Arguments:\n"
      ],
      "metadata": {
        "id": "ujGTy_rhnbvU"
      }
    },
    {
      "cell_type": "code",
      "source": [
        "s = \"Name: {name}, Age: {age}\"\n",
        "formatted_string = s.format(name=\"Alice\", age=30)\n",
        "print(formatted_string)  # Output: \"Name: Alice, Age: 30\""
      ],
      "metadata": {
        "id": "AxFIqoL8ndHD"
      },
      "execution_count": null,
      "outputs": []
    },
    {
      "cell_type": "markdown",
      "source": [
        "The placeholder {name} is replaced by \"Alice\", and {age} is replaced by 30."
      ],
      "metadata": {
        "id": "nNYAKH7hnXJk"
      }
    },
    {
      "cell_type": "markdown",
      "source": [
        "Mixing Positional and Keyword Arguments:"
      ],
      "metadata": {
        "id": "FOOTUslRniuE"
      }
    },
    {
      "cell_type": "code",
      "source": [
        "s = \"Hello, {}. You are {age} years old.\"\n",
        "formatted_string = s.format(\"Alice\", age=30)\n",
        "print(formatted_string)  # Output: \"Hello, Alice. You are 30 years old.\""
      ],
      "metadata": {
        "colab": {
          "base_uri": "https://localhost:8080/"
        },
        "id": "iOrvP4QJngP0",
        "outputId": "365d9914-248a-43aa-b284-c1054c248874"
      },
      "execution_count": null,
      "outputs": [
        {
          "output_type": "stream",
          "name": "stdout",
          "text": [
            "Hello, Alice. You are 30 years old.\n"
          ]
        }
      ]
    },
    {
      "cell_type": "markdown",
      "source": [
        "The first placeholder {} is replaced by \"Alice\" (positional argument), and {age} is replaced by 30 (keyword argument)."
      ],
      "metadata": {
        "id": "FUldxN66nnOD"
      }
    },
    {
      "cell_type": "markdown",
      "metadata": {
        "id": "72eYhvvObS_T"
      },
      "source": [
        "## Lists\n",
        "\n",
        "Lists are fundamental to python, and can contain ANY datatype (including objects, even other lists!). Some operands even work on lists!"
      ]
    },
    {
      "cell_type": "code",
      "execution_count": null,
      "metadata": {
        "colab": {
          "base_uri": "https://localhost:8080/"
        },
        "id": "f6F1ObVXbS_T",
        "outputId": "b9ca4d63-1ae8-49a3-c1a7-b393c9c4e0e8"
      },
      "outputs": [
        {
          "output_type": "stream",
          "name": "stdout",
          "text": [
            "[1, 6, 2, 3, 5, 6, 3, 2]\n",
            "[[1, 2, 3], [4, 5], [6, 7, 8]]\n",
            "[15, 'a cat', True]\n",
            "['Hum YC', 18, True]\n",
            "['Hum YC', 18, True, 'Hum YC', 18, True, 'Hum YC', 18, True, 'Hum YC', 18, True]\n"
          ]
        }
      ],
      "source": [
        "list_of_numbers = [1, 6, 2, 3, 5, 6, 3, 2]\n",
        "list1, list2, list3 = [1, 2, 3], [4, 5], [6, 7, 8]\n",
        "list_of_lists = [list1, list2, list3]\n",
        "list_with_calculations = [3*5, \"a\"+ \" cat\", True or FALSE]\n",
        "name = 'Hum YC'\n",
        "age = 18\n",
        "employed = True\n",
        "list_from_variables = [name, age, employed]\n",
        "list_multiplication = list_from_variables*4\n",
        "\n",
        "print(list_of_numbers)\n",
        "print(list_of_lists)\n",
        "print(list_with_calculations)\n",
        "print(list_from_variables)\n",
        "print(list_multiplication)"
      ]
    },
    {
      "cell_type": "code",
      "source": [
        "# Define a list of elements\n",
        "my_list = [\"apple\", \"banana\", \"cherry\", \"date\"]\n",
        "\n",
        "# Use a for loop to iterate through the list\n",
        "for element in my_list:\n",
        "    print(element)\n"
      ],
      "metadata": {
        "colab": {
          "base_uri": "https://localhost:8080/"
        },
        "id": "oCYsMSr5E-db",
        "outputId": "0af7a9d6-4e00-45f9-8cd4-f4dc78f1d390"
      },
      "execution_count": null,
      "outputs": [
        {
          "output_type": "stream",
          "name": "stdout",
          "text": [
            "apple\n",
            "banana\n",
            "cherry\n",
            "date\n"
          ]
        }
      ]
    },
    {
      "cell_type": "code",
      "source": [
        "print(my_list[0:2])"
      ],
      "metadata": {
        "colab": {
          "base_uri": "https://localhost:8080/"
        },
        "id": "QtU1u_VAFWqk",
        "outputId": "e1ab10b0-b88d-4afd-a1f4-4f96d673117d"
      },
      "execution_count": null,
      "outputs": [
        {
          "output_type": "stream",
          "name": "stdout",
          "text": [
            "['apple', 'banana']\n"
          ]
        }
      ]
    },
    {
      "cell_type": "markdown",
      "source": [],
      "metadata": {
        "id": "7jT2nzHJgcre"
      }
    }
  ],
  "metadata": {
    "kernelspec": {
      "display_name": "Python 3",
      "language": "python",
      "name": "python3"
    },
    "language_info": {
      "codemirror_mode": {
        "name": "ipython",
        "version": 3
      },
      "file_extension": ".py",
      "mimetype": "text/x-python",
      "name": "python",
      "nbconvert_exporter": "python",
      "pygments_lexer": "ipython3",
      "version": "3.7.3"
    },
    "colab": {
      "provenance": []
    }
  },
  "nbformat": 4,
  "nbformat_minor": 0
}